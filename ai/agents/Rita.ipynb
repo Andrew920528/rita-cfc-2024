{
 "cells": [
  {
   "cell_type": "code",
   "execution_count": 1,
   "metadata": {},
   "outputs": [],
   "source": [
    "import os\n",
    "import sys\n",
    "# Get the absolute path of the sibling folder\n",
    "server_folder_path = os.path.abspath(os.path.join(os.getcwd(), '..', '..', 'server'))\n",
    "# Add the sibling folder to the system path\n",
    "sys.path.append(server_folder_path)\n",
    "\n",
    "# Import the module from the sibling folder\n",
    "from actions.ritaActions import initRetriever, initLLM, llm_stream_response"
   ]
  },
  {
   "cell_type": "code",
   "execution_count": 2,
   "metadata": {},
   "outputs": [],
   "source": [
    "retriever = initRetriever()\n",
    "llm = initLLM()"
   ]
  },
  {
   "cell_type": "code",
   "execution_count": 3,
   "metadata": {},
   "outputs": [
    {
     "data": {
      "text/plain": [
       "{'classroom': {'status': 'success',\n",
       "  'data': {'name': '7/17',\n",
       "   'subject': '數學',\n",
       "   'publisher': '康軒',\n",
       "   'grade': '六上',\n",
       "   'plan': 0,\n",
       "   'credits': 3}},\n",
       " 'lecture': {'status': 'success', 'data': {'name': '學期規劃', 'type': 0}},\n",
       " 'chat_history': [{'text': 'hello', 'sender': 'user'},\n",
       "  {'text': \" Hello! I'm Rita, your teaching assistant. How can I assist you today? Do you need help planning a lesson or would you like me to explain any of the topics listed above?\",\n",
       "   'sender': 'ai'}],\n",
       " 'widget': {'id': 'AndrewHsu-wid-lz2beugs59ouyjcjy75',\n",
       "  'type': 0,\n",
       "  'content': {'goals': []}}}"
      ]
     },
     "execution_count": 3,
     "metadata": {},
     "output_type": "execute_result"
    }
   ],
   "source": [
    "import json\n",
    "\n",
    "# Get an example data\n",
    "curr_dir = os.getcwd()\n",
    "json_file_path = os.path.join(curr_dir, \"data_examples\", \"15:58:29.877.json\")\n",
    "\n",
    "# Read the JSON file\n",
    "with open(json_file_path, 'r', encoding='utf-8') as file:\n",
    "    data = json.load(file)\n",
    "\n",
    "data"
   ]
  },
  {
   "cell_type": "code",
   "execution_count": 5,
   "metadata": {},
   "outputs": [],
   "source": [
    "prompt = \"\"\n",
    "# llm_stream_response(data, prompt, retriever, llm,True)"
   ]
  },
  {
   "cell_type": "code",
   "execution_count": null,
   "metadata": {},
   "outputs": [],
   "source": [
    "# Set up rita\n",
    "\n"
   ]
  }
 ],
 "metadata": {
  "kernelspec": {
   "display_name": "rita",
   "language": "python",
   "name": "python3"
  },
  "language_info": {
   "codemirror_mode": {
    "name": "ipython",
    "version": 3
   },
   "file_extension": ".py",
   "mimetype": "text/x-python",
   "name": "python",
   "nbconvert_exporter": "python",
   "pygments_lexer": "ipython3",
   "version": "3.11.9"
  }
 },
 "nbformat": 4,
 "nbformat_minor": 2
}
