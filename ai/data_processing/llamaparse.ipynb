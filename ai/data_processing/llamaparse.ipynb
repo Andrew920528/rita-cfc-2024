{
 "cells": [
  {
   "cell_type": "code",
   "execution_count": null,
   "metadata": {},
   "outputs": [],
   "source": [
    "import os\n",
    "from llama_parse import LlamaParse\n",
    "from llama_index.core import SimpleDirectoryReader\n",
    "import nest_asyncio\n",
    "from dotenv import load_dotenv\n",
    "# NOTE: Modify path names as needed\n",
    "cwd = os.getcwd()\n",
    "in_dir = os.path.join(cwd,'raw_data','康數五上單元資料')\n",
    "out_dir = os.path.join(cwd,'processed_data', 'course_plan')\n",
    "\n",
    "directory = '/path/to/your/directory'\n",
    "\n",
    "# Loop through all files in the directory\n",
    "\n",
    "in_paths = []\n",
    "out_paths = []\n",
    "for filename in os.listdir(in_dir):\n",
    "    # Print the name of each file\n",
    "    in_paths.append(os.path.join(in_dir, filename))\n",
    "    out_paths.append(os.path.join(out_dir, filename[:-3] + \"md\"))\n",
    "    \n",
    "print(in_paths)\n",
    "print(out_paths)\n",
    "\n",
    "\n"
   ]
  },
  {
   "cell_type": "code",
   "execution_count": null,
   "metadata": {},
   "outputs": [],
   "source": [
    "# Setup LlamaParse\n",
    "\n",
    "# llama_parse requires pydantic-1.8.2 (orig. 1.10.10)\n",
    "env_path = os.path.join(os.path.dirname(cwd), '.env')\n",
    "load_dotenv(dotenv_path=env_path)\n",
    "API_KEY = os.getenv(\"LLAMA_KEY\")\n",
    "nest_asyncio.apply()\n",
    "parser_markdown = LlamaParse(\n",
    "    api_key=API_KEY,\n",
    "    result_type=\"markdown\",  # \"markdown\" and \"text\" are available\n",
    "    verbose=True,\n",
    "    language=\"ch_tra\",\n",
    "    target_pages=\"3,4\"\n",
    ")"
   ]
  },
  {
   "cell_type": "code",
   "execution_count": null,
   "metadata": {},
   "outputs": [],
   "source": [
    "def extract_md(in_path, out_path):\n",
    "    file_extractor_markdown = {\".pdf\": parser_markdown}\n",
    "    extracted_markdown = SimpleDirectoryReader(input_files=[in_path], file_extractor=file_extractor_markdown).load_data()\n",
    "    with open(out_path, 'w', encoding='utf-8') as file:\n",
    "        for page in extracted_markdown:\n",
    "            file.write(page.get_content() + \"\\n\")\n",
    "    \n",
    "    print(\"Extracted markdown:\" + out_path)\n",
    "    print(str(extracted_markdown[0])[:100] + \"...\")"
   ]
  },
  {
   "cell_type": "code",
   "execution_count": null,
   "metadata": {},
   "outputs": [],
   "source": [
    "for in_path, out_path in zip(in_paths, out_paths):\n",
    "    extract_md(in_path, out_path)\n"
   ]
  }
 ],
 "metadata": {
  "kernelspec": {
   "display_name": "ibm_cfc",
   "language": "python",
   "name": "python3"
  },
  "language_info": {
   "codemirror_mode": {
    "name": "ipython",
    "version": 3
   },
   "file_extension": ".py",
   "mimetype": "text/x-python",
   "name": "python",
   "nbconvert_exporter": "python",
   "pygments_lexer": "ipython3",
   "version": "3.11.9"
  }
 },
 "nbformat": 4,
 "nbformat_minor": 2
}
