{
 "cells": [
  {
   "cell_type": "code",
   "execution_count": 4,
   "metadata": {},
   "outputs": [],
   "source": [
    "import os\n",
    "from llama_parse import LlamaParse\n",
    "from llama_index.core import SimpleDirectoryReader\n",
    "import nest_asyncio\n",
    "from dotenv import load_dotenv\n",
    "# NOTE: Modify path names as needed\n",
    "cwd = os.getcwd()\n",
    "raw_data_path = os.path.join(cwd,'raw_data','康軒數學5上教冊資料篇_全.pdf')\n",
    "parsed_document_path = os.path.join(cwd,'processed_data','kang_math_5th_2nd_extracted.md')\n",
    "\n",
    "# llama_parse requires pydantic-1.8.2 (orig. 1.10.10)\n",
    "env_path = os.path.join(os.path.dirname(cwd), '.env')\n",
    "load_dotenv(dotenv_path=env_path)\n",
    "API_KEY = os.getenv(\"LLAMA_PARSE_KEY\")"
   ]
  },
  {
   "cell_type": "code",
   "execution_count": 2,
   "metadata": {},
   "outputs": [],
   "source": [
    "nest_asyncio.apply()\n",
    "parser_markdown = LlamaParse(\n",
    "    api_key=API_KEY,\n",
    "    result_type=\"markdown\",  # \"markdown\" and \"text\" are available\n",
    "    verbose=True\n",
    ")"
   ]
  },
  {
   "cell_type": "code",
   "execution_count": 3,
   "metadata": {},
   "outputs": [
    {
     "name": "stdout",
     "output_type": "stream",
     "text": [
      "Started parsing the file under job_id 8b246057-9d44-44e6-91df-6ff031e91019\n",
      "Extracted markdown:\n",
      "Doc ID: fe9ff6f4-66e7-4301-8cb9-dc6f88d266c9\n",
      "Text: # 國民小學第九冊  國 小 數 學  教師手冊5上資 料 篇  5上  教師手冊(資料篇)\n"
     ]
    }
   ],
   "source": [
    "file_extractor_markdown = {\".pdf\": parser_markdown}\n",
    "extracted_markdown = SimpleDirectoryReader(input_files=[raw_data_path], file_extractor=file_extractor_markdown).load_data()\n",
    "print(\"Extracted markdown:\")\n",
    "print(extracted_markdown[0])"
   ]
  },
  {
   "cell_type": "code",
   "execution_count": 6,
   "metadata": {},
   "outputs": [],
   "source": [
    "# Specify the file path\n",
    "# Write the content to the markdown file\n",
    "with open(parsed_document_path, 'w', encoding='utf-8') as file:\n",
    "    for page in extracted_markdown:\n",
    "        file.write(page.get_content() + \"\\n\")"
   ]
  }
 ],
 "metadata": {
  "kernelspec": {
   "display_name": "ibm_cfc",
   "language": "python",
   "name": "python3"
  },
  "language_info": {
   "codemirror_mode": {
    "name": "ipython",
    "version": 3
   },
   "file_extension": ".py",
   "mimetype": "text/x-python",
   "name": "python",
   "nbconvert_exporter": "python",
   "pygments_lexer": "ipython3",
   "version": "3.11.9"
  }
 },
 "nbformat": 4,
 "nbformat_minor": 2
}
