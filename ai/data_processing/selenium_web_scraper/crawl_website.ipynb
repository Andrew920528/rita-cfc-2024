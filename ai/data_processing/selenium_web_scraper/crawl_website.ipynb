{
 "cells": [
  {
   "cell_type": "code",
   "execution_count": 1,
   "metadata": {},
   "outputs": [],
   "source": [
    "# pip install selenium==4.23.1\n",
    "from selenium import webdriver\n",
    "from selenium.webdriver.common.by import By\n",
    "from selenium.webdriver.common.action_chains import ActionChains\n",
    "from selenium.webdriver.support.ui import WebDriverWait\n",
    "from selenium.webdriver.support import expected_conditions as EC"
   ]
  },
  {
   "cell_type": "code",
   "execution_count": 2,
   "metadata": {},
   "outputs": [],
   "source": [
    "# 均一網址\n",
    "url = \"https://www.junyiacademy.org/course-compare/math-elem/math-5/k-m5a_y112\"\n",
    "\n",
    "# Get Chrome driver\n",
    "driver = webdriver.Chrome()\n",
    "driver.get(url)\n",
    "\n",
    "# Give the page some time to load elements\n",
    "WebDriverWait(driver, 10).until(EC.presence_of_element_located((By.XPATH, \"//*[contains(@id, 'topic-card-k-m5a')]\")))\n",
    "\n",
    "# File we want to write to\n",
    "filename = 'textbook_links_5a.txt'\n",
    "with open(filename, 'w') as file:\n",
    "\n",
    "    # Iterate through each element, click on it, extract data, then go back\n",
    "    for i in range(10):\n",
    "        # 0-10 -> first semester\n",
    "        # 11-20 -> second semester\n",
    "\n",
    "        # Elements with units\n",
    "        elements = driver.find_elements(\n",
    "            By.CSS_SELECTOR, \n",
    "            '.MuiButtonBase-root.MuiButton-root.MuiButton-contained.MuiButton-containedPrimary.MuiButton-sizeMedium.MuiButton-containedSizeMedium.css-ll033b'\n",
    "        )\n",
    "\n",
    "        ActionChains(driver).move_to_element(elements[i]).click(elements[i]).perform()\n",
    "\n",
    "        WebDriverWait(driver, 10).until(EC.presence_of_element_located((By.CSS_SELECTOR, '.MuiButtonBase-root.MuiListItem-root.MuiListItem-gutters.MuiListItem-padding.MuiListItem-button.MuiListItem-secondaryAction.css-cwpkkg')))\n",
    "\n",
    "        # Get the unit string\n",
    "        unit_string_element = driver.find_element(By.CSS_SELECTOR, 'div[data-testid=\"side-panel-title\"].css-rwiwre')\n",
    "        unit_string = unit_string_element.text\n",
    "\n",
    "        file.write(f\"\\n{unit_string}\\n\")\n",
    "\n",
    "        # Get links to videos\n",
    "        links_to_videos = driver.find_elements(By.CSS_SELECTOR, '.MuiButtonBase-root.MuiListItem-root.MuiListItem-gutters.MuiListItem-padding.MuiListItem-button.MuiListItem-secondaryAction.css-cwpkkg')\n",
    "        # some links are not actually links to videos; instead, they store practice problems\n",
    "\n",
    "        for element in links_to_videos:\n",
    "            WebDriverWait(driver, 10).until(EC.presence_of_element_located((By.CSS_SELECTOR, 'span.MuiTypography-root.MuiTypography-body1.css-37h3rr')))\n",
    "            child_with_text = element.find_element(By.CSS_SELECTOR, 'span.MuiTypography-root.MuiTypography-body1.css-37h3rr')\n",
    "            child_text = child_with_text.text\n",
    "            original_url = driver.current_url\n",
    "            element.click()\n",
    "            WebDriverWait(driver, 10).until(lambda driver: driver.current_url != original_url)\n",
    "            current_url = driver.current_url\n",
    "            file.write(f\"{child_text}:\\n{current_url}\\n\")\n",
    "            driver.back()\n",
    "            WebDriverWait(driver, 10).until(EC.presence_of_element_located((By.CSS_SELECTOR, '.MuiButtonBase-root.MuiListItem-root.MuiListItem-gutters.MuiListItem-padding.MuiListItem-button.MuiListItem-secondaryAction.css-cwpkkg')))\n",
    "\n",
    "        driver.back()\n",
    "\n",
    "        # Wait for the original page to load back\n",
    "        WebDriverWait(driver, 10).until(EC.presence_of_element_located((By.CSS_SELECTOR, '.MuiButtonBase-root.MuiButton-root.MuiButton-contained.MuiButton-containedPrimary.MuiButton-sizeMedium.MuiButton-containedSizeMedium.css-ll033b')))\n",
    "\n",
    "# Close the driver\n",
    "driver.quit()"
   ]
  }
 ],
 "metadata": {
  "kernelspec": {
   "display_name": "crawl",
   "language": "python",
   "name": "python3"
  },
  "language_info": {
   "codemirror_mode": {
    "name": "ipython",
    "version": 3
   },
   "file_extension": ".py",
   "mimetype": "text/x-python",
   "name": "python",
   "nbconvert_exporter": "python",
   "pygments_lexer": "ipython3",
   "version": "3.12.4"
  }
 },
 "nbformat": 4,
 "nbformat_minor": 2
}
