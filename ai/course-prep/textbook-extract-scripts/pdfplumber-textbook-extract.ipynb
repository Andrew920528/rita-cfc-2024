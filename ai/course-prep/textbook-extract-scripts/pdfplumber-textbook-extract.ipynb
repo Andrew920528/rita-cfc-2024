{
 "cells": [
  {
   "cell_type": "code",
   "execution_count": 3,
   "metadata": {},
   "outputs": [],
   "source": [
    "# Extract text information from a PDF file using pdfplumber library\n",
    "\n",
    "import pdfplumber\n",
    "import re\n",
    "\n",
    "def extract_text_from_pdf(pdf_path):\n",
    "    text = \"\"\n",
    "    with pdfplumber.open(pdf_path) as pdf:\n",
    "        for page in pdf.pages:\n",
    "            text += page.extract_text()\n",
    "    return text\n",
    "\n",
    "# path to textbook pdf\n",
    "pdf_path = r\"C:\\Users\\ediso\\OneDrive\\Desktop\\IBM Call for Code\\rita-cfc-2024\\ai\\course-prep\\textbook-pdf\\康軒數學5上教冊資料篇_全.pdf\"\n",
    "\n",
    "# extract texts from pdf file\n",
    "extracted_text = extract_text_from_pdf(pdf_path)\n",
    "\n",
    "# save extracted text\n",
    "with open(r\"C:\\Users\\ediso\\OneDrive\\Desktop\\IBM Call for Code\\rita-cfc-2024\\ai\\course-prep\\textbook-unorganized\\康數五上_unorganized_.txt\", \"w\", encoding=\"utf-8\") as file:\n",
    "    file.write(extracted_text)\n"
   ]
  }
 ],
 "metadata": {
  "kernelspec": {
   "display_name": "ibm_cfc",
   "language": "python",
   "name": "python3"
  },
  "language_info": {
   "codemirror_mode": {
    "name": "ipython",
    "version": 3
   },
   "file_extension": ".py",
   "mimetype": "text/x-python",
   "name": "python",
   "nbconvert_exporter": "python",
   "pygments_lexer": "ipython3",
   "version": "3.11.9"
  }
 },
 "nbformat": 4,
 "nbformat_minor": 2
}
