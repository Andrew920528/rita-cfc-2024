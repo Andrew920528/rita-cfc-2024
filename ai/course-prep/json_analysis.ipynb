{
 "cells": [
  {
   "cell_type": "code",
   "execution_count": 1,
   "metadata": {},
   "outputs": [],
   "source": [
    "import json"
   ]
  },
  {
   "cell_type": "code",
   "execution_count": 2,
   "metadata": {},
   "outputs": [],
   "source": [
    "# Load JSON data from a file\n",
    "with open(r'C:\\Users\\ediso\\OneDrive\\Desktop\\IBM Call for Code\\rita-cfc-2024\\ai\\course-prep\\textbook-organized\\康數五上_organized.json', 'r', encoding='utf-8') as file:\n",
    "    schedule_data = json.load(file)"
   ]
  },
  {
   "cell_type": "code",
   "execution_count": 3,
   "metadata": {},
   "outputs": [
    {
     "name": "stdout",
     "output_type": "stream",
     "text": [
      "<class 'dict'>\n"
     ]
    }
   ],
   "source": [
    "print(type(schedule_data))"
   ]
  },
  {
   "cell_type": "code",
   "execution_count": 9,
   "metadata": {},
   "outputs": [
    {
     "name": "stdout",
     "output_type": "stream",
     "text": [
      "74840\n"
     ]
    }
   ],
   "source": [
    "print(len(schedule_data[\"analyzeResult\"][\"content\"]))"
   ]
  },
  {
   "cell_type": "code",
   "execution_count": 12,
   "metadata": {},
   "outputs": [],
   "source": [
    "print(schedule_data[\"analyzeResult\"][\"content\"])"
   ]
  },
  {
   "cell_type": "code",
   "execution_count": 13,
   "metadata": {},
   "outputs": [],
   "source": [
    "textbook_text = schedule_data[\"analyzeResult\"][\"content\"]"
   ]
  },
  {
   "cell_type": "code",
   "execution_count": 14,
   "metadata": {},
   "outputs": [],
   "source": [
    "with open(r'C:\\Users\\ediso\\OneDrive\\Desktop\\IBM Call for Code\\rita-cfc-2024\\ai\\course-prep\\textbook-organized\\康數五上_organized_new.txt', 'w', encoding='utf-8') as txt_file:\n",
    "    txt_file.write(textbook_text)"
   ]
  }
 ],
 "metadata": {
  "kernelspec": {
   "display_name": "ibm_cfc",
   "language": "python",
   "name": "python3"
  },
  "language_info": {
   "codemirror_mode": {
    "name": "ipython",
    "version": 3
   },
   "file_extension": ".py",
   "mimetype": "text/x-python",
   "name": "python",
   "nbconvert_exporter": "python",
   "pygments_lexer": "ipython3",
   "version": "3.11.9"
  }
 },
 "nbformat": 4,
 "nbformat_minor": 2
}
