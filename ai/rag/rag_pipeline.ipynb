{
 "cells": [
  {
   "cell_type": "markdown",
   "metadata": {},
   "source": [
    "# RAG Pipeline\n",
    "This file splits up processed data into chunks and store them into vector store as embeddings.\n",
    "- Modify path for different data. \n",
    "- Modify splitter parameters to split documents semantically.\n",
    "- Change different embedding model to test the correctness of retrieved document."
   ]
  },
  {
   "cell_type": "code",
   "execution_count": 11,
   "metadata": {},
   "outputs": [],
   "source": [
    "# import packages\n",
    "from dotenv import load_dotenv\n",
    "import os\n",
    "import getpass\n",
    "from langchain.text_splitter import RecursiveCharacterTextSplitter\n",
    "from langchain_huggingface import HuggingFaceEmbeddings\n",
    "from langchain.vectorstores import FAISS\n",
    "from langchain_cohere import CohereEmbeddings"
   ]
  },
  {
   "cell_type": "code",
   "execution_count": 12,
   "metadata": {},
   "outputs": [],
   "source": [
    "# Path parameters and environment variables\n",
    "cwd = os.getcwd()\n",
    "env_path = os.path.join(os.path.dirname(cwd), '.env')\n",
    "load_dotenv(dotenv_path=env_path)\n",
    "\n",
    "# Modify the path parameters as needed\n",
    "textbook_extracted_path = os.path.join(cwd,'..', 'data_processing', 'processed_data','kang_math_textbook_edited.md')\n",
    "vector_path = os.path.join(cwd, 'vector-stores', 'test_vector_store')\n"
   ]
  },
  {
   "cell_type": "markdown",
   "metadata": {},
   "source": [
    "## Part 1: Text Splitting"
   ]
  },
  {
   "cell_type": "code",
   "execution_count": 13,
   "metadata": {},
   "outputs": [],
   "source": [
    "# Splitter paramters\n",
    "separators = ['#','##','###']\n",
    "chunk_size = 1000\n",
    "chunk_overlap = 0 # we are splitting by tags so there shouldn't be tokens that got cut"
   ]
  },
  {
   "cell_type": "code",
   "execution_count": 14,
   "metadata": {},
   "outputs": [],
   "source": [
    "# Load the organized textbook data\n",
    "with open(textbook_extracted_path, \"r\", encoding=\"utf-8\") as file:\n",
    "    extracted_text = file.read()    "
   ]
  },
  {
   "cell_type": "code",
   "execution_count": 15,
   "metadata": {},
   "outputs": [],
   "source": [
    "# Create a RecursiveCharacterTextSplitter object to split the text into chunks\n",
    "text_splitter = RecursiveCharacterTextSplitter(\n",
    "    separators=separators,\n",
    "    chunk_size=chunk_size,       # Maximum number of characters in each chunk\n",
    "    chunk_overlap=chunk_overlap,     # Number of characters that overlap between consecutive chunks\n",
    "    length_function=len,    # Function to measure the length of chunks\n",
    ")\n",
    "\n",
    "texts = text_splitter.split_text(extracted_text)\n",
    "text_docs = text_splitter.create_documents([extracted_text])"
   ]
  },
  {
   "cell_type": "code",
   "execution_count": 16,
   "metadata": {},
   "outputs": [],
   "source": [
    "# Write all chunks into files to see if they are semantically separated\n",
    "new_directory = os.path.join(cwd, 'chunks')\n",
    "os.makedirs(new_directory, exist_ok=True)\n",
    "for i, text in enumerate(texts):\n",
    "    file_path = os.path.join(new_directory, f'chunk{i}.md')\n",
    "    with open(file_path, 'w') as file:\n",
    "        file.write(text)"
   ]
  },
  {
   "cell_type": "markdown",
   "metadata": {},
   "source": [
    "## Part 2: Convert Text Chunks into Embeddings"
   ]
  },
  {
   "cell_type": "code",
   "execution_count": 17,
   "metadata": {},
   "outputs": [],
   "source": [
    "COHERE_KEY = os.getenv(\"COHERE_KEY\")\n",
    "\n",
    "# NOTE: Change the model as needed\n",
    "# embeddings = HuggingFaceEmbeddings(model_name=\"sentence-transformers/paraphrase-multilingual-MiniLM-L12-v2\")\n",
    "embeddings = CohereEmbeddings(cohere_api_key=COHERE_KEY, model=\"embed-multilingual-v3.0\")\n",
    "\n",
    "# Initialize FAISS (Facebook AI Similarity Search) vector store, converting raw text chunks into embeddings\n",
    "faiss_store = FAISS.from_texts(texts, embeddings)\n",
    "\n",
    "# Define the save path and the name for the vector store\n",
    "os.makedirs(vector_path, exist_ok=True)\n",
    "\n",
    "# Save FAISS vector store to disk with a name\n",
    "faiss_store.save_local(vector_path)"
   ]
  },
  {
   "cell_type": "code",
   "execution_count": 18,
   "metadata": {},
   "outputs": [
    {
     "name": "stdout",
     "output_type": "stream",
     "text": [
      "Elapsed time: 3.27 seconds\n"
     ]
    }
   ],
   "source": [
    "# Test Retrieval Behavior\n",
    "from tests.test_retriever import * \n",
    "retriever = faiss_store.as_retriever(search_kwargs={\"k\": 5})\n",
    "query = \"列出第三單元的學習重點\"\n",
    "retrieved_path = os.path.join(cwd, 'retrieved_docs')\n",
    "docs = test_retriever(retriever, query, retrieved_path, print_docs=False)"
   ]
  },
  {
   "cell_type": "markdown",
   "metadata": {},
   "source": [
    "#### Dev Notes\n",
    "- Seems like the right chapters are retrieved after we specified a multilingual embedding model (LOL).\n",
    "- Did came accross re-rank (CohereRerank), which does not really change the originially retrieved documents from the model.\n",
    "- Also stumbled upon \"compression retriever\", which can potentially help reduce distracting token, but we will come back to it if current solution doesn't work."
   ]
  }
 ],
 "metadata": {
  "kernelspec": {
   "display_name": "ibm_cfc",
   "language": "python",
   "name": "python3"
  },
  "language_info": {
   "codemirror_mode": {
    "name": "ipython",
    "version": 3
   },
   "file_extension": ".py",
   "mimetype": "text/x-python",
   "name": "python",
   "nbconvert_exporter": "python",
   "pygments_lexer": "ipython3",
   "version": "3.11.9"
  }
 },
 "nbformat": 4,
 "nbformat_minor": 2
}
