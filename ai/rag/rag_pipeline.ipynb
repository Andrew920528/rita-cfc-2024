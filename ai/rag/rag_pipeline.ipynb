{
 "cells": [
  {
   "cell_type": "markdown",
   "metadata": {},
   "source": [
    "# RAG Pipeline\n",
    "This file splits and stores each document into vector embeddings."
   ]
  },
  {
   "cell_type": "code",
   "execution_count": 33,
   "metadata": {},
   "outputs": [],
   "source": [
    "# import packages\n",
    "from dotenv import load_dotenv\n",
    "import os\n",
    "from langchain.text_splitter import RecursiveCharacterTextSplitter\n",
    "from langchain.vectorstores import FAISS\n",
    "from langchain_cohere import CohereEmbeddings\n",
    "from langchain_community.document_loaders import JSONLoader"
   ]
  },
  {
   "cell_type": "code",
   "execution_count": 34,
   "metadata": {},
   "outputs": [],
   "source": [
    "# Path parameters and environment variables\n",
    "cwd = os.getcwd()\n",
    "env_path = os.path.join(os.path.dirname(cwd), '.env')\n",
    "load_dotenv(dotenv_path=env_path)\n",
    "\n",
    "# Modify the path parameters as needed\n",
    "text_docs = []\n"
   ]
  },
  {
   "cell_type": "markdown",
   "metadata": {},
   "source": [
    "## Part 1: Text Splitting"
   ]
  },
  {
   "cell_type": "code",
   "execution_count": 35,
   "metadata": {},
   "outputs": [],
   "source": [
    "# Splitter paramters\n",
    "separators = ['#','##','###']\n",
    "chunk_size = 1000\n",
    "chunk_overlap = 0 # we are splitting by tags so there shouldn't be tokens that got cut\n",
    "textbook_extracted_path = os.path.join(cwd,'..', 'data_processing', 'processed_data','kang_math_textbook_edited.md')\n"
   ]
  },
  {
   "cell_type": "code",
   "execution_count": 36,
   "metadata": {},
   "outputs": [],
   "source": [
    "# Load the organized textbook data\n",
    "with open(textbook_extracted_path, \"r\", encoding=\"utf-8\") as file:\n",
    "    extracted_text = file.read()   \n",
    "# Create a RecursiveCharacterTextSplitter object to split the text into chunks\n",
    "text_splitter = RecursiveCharacterTextSplitter(\n",
    "    separators=separators,\n",
    "    chunk_size=chunk_size,       # Maximum number of characters in each chunk\n",
    "    chunk_overlap=chunk_overlap,     # Number of characters that overlap between consecutive chunks\n",
    "    length_function=len,    # Function to measure the length of chunks\n",
    ")\n",
    "\n",
    "# text_docs.extend(text_splitter.create_documents([extracted_text]))\n"
   ]
  },
  {
   "cell_type": "code",
   "execution_count": 37,
   "metadata": {},
   "outputs": [],
   "source": [
    "# Load json course plan\n",
    "dir_path = os.path.join(cwd,'..', 'data_processing', 'processed_data','course_plan')\n",
    "documents = []\n",
    "\n",
    "# Loop through each chapter file (1 to 10)\n",
    "for filename in os.listdir(dir_path):\n",
    "    # Load each JSON file\n",
    "    loader = JSONLoader(file_path=os.path.join(dir_path, filename), jq_schema=\".\", text_content=False)\n",
    "    data = loader.load()\n",
    "    # Append loaded documents to the list\n",
    "    documents.extend(data)\n",
    "\n",
    "text_docs.extend(documents)\n"
   ]
  },
  {
   "cell_type": "code",
   "execution_count": 38,
   "metadata": {},
   "outputs": [],
   "source": [
    "# Write all chunks into files to see if they are semantically separated\n",
    "new_directory = os.path.join(cwd, 'chunks')\n",
    "os.makedirs(new_directory, exist_ok=True)\n",
    "for i, text in enumerate(text_docs):\n",
    "    file_path = os.path.join(new_directory, f'chunk{i}.md')\n",
    "    with open(file_path, 'w', encoding='utf-8') as file:\n",
    "        file.write(text.page_content)"
   ]
  },
  {
   "cell_type": "markdown",
   "metadata": {},
   "source": [
    "## Part 2: Convert Text Chunks into Embeddings"
   ]
  },
  {
   "cell_type": "code",
   "execution_count": 39,
   "metadata": {},
   "outputs": [],
   "source": [
    "COHERE_KEY = os.getenv(\"COHERE_KEY\")\n",
    "vector_path = os.path.join(cwd, 'vector-stores', 'test_vector_store')\n",
    "\n",
    "embeddings = CohereEmbeddings(cohere_api_key=COHERE_KEY, model=\"embed-multilingual-v3.0\")\n",
    "\n",
    "# Initialize FAISS (Facebook AI Similarity Search) vector store, converting raw text chunks into embeddings\n",
    "faiss_store = FAISS.from_documents(text_docs, embeddings)\n",
    "# Define the save path and the name for the vector store\n",
    "os.makedirs(vector_path, exist_ok=True)\n",
    "\n",
    "# Save FAISS vector store to disk with a name\n",
    "faiss_store.save_local(vector_path)"
   ]
  },
  {
   "cell_type": "markdown",
   "metadata": {},
   "source": [
    "# Part 3: Testing"
   ]
  },
  {
   "cell_type": "code",
   "execution_count": 45,
   "metadata": {},
   "outputs": [
    {
     "name": "stdout",
     "output_type": "stream",
     "text": [
      "Elapsed time: 0.28 seconds\n",
      "Test 0: 生成十六週的學期進度，包含每週每堂課需要涵蓋的內容\n",
      "✅ Success: detected tag 整學期 at doc number 0\n",
      "Elapsed time: 0.23 seconds\n",
      "Test 1: 建立學期計畫\n",
      "✅ Success: detected tag 整學期 at doc number 0\n",
      "Elapsed time: 0.24 seconds\n",
      "Test 2: 幫我出這學期的進度\n",
      "✅ Success: detected tag 整學期 at doc number 0\n",
      "Elapsed time: 0.22 seconds\n",
      "Test 3: Give me a semester plan that convers all the course material in 16 weeks\n",
      "✅ Success: detected tag 整學期 at doc number 0\n",
      "Elapsed time: 0.24 seconds\n",
      "Test 4: 草擬學期計畫\n",
      "✅ Success: detected tag 整學期 at doc number 0\n",
      "Elapsed time: 0.21 seconds\n",
      "Test 5: 給我課程大綱\n",
      "✅ Success: detected tag 整學期 at doc number 0\n",
      "Elapsed time: 0.22 seconds\n",
      "Test 6: 第一單元有什麼學習重點？\n",
      "✅ Success: detected tag 第1單元 at doc number 0\n",
      "Elapsed time: 0.21 seconds\n",
      "Test 7: 列出第四章學習重點\n",
      "✅ Success: detected tag 第4單元 at doc number 0\n",
      "Elapsed time: 0.21 seconds\n",
      "Test 8: 幫我找第六課的相關影片\n",
      "✅ Success: detected tag 第6單元 at doc number 0\n",
      "Elapsed time: 0.22 seconds\n",
      "Test 9: 幫我出第十單元的題目\n",
      "✅ Success: detected tag 第10單元 at doc number 0\n",
      "Elapsed time: 0.22 seconds\n",
      "Test 10: What are some key takeaway in chapter three?\n",
      "✅ Success: detected tag 第3單元 at doc number 0\n",
      "Elapsed time: 0.21 seconds\n",
      "Test 11: List out key learning points of chapter 9\n",
      "✅ Success: detected tag 第9單元 at doc number 0\n",
      "Elapsed time: 0.21 seconds\n",
      "Test 12: 列出第二章的活動內容\n",
      "✅ Success: detected tag 第2單元 at doc number 0\n"
     ]
    }
   ],
   "source": [
    "# Test Retrieval Behavior\n",
    "from tests.test_retriever import * \n",
    "retriever = faiss_store.as_retriever(search_kwargs={\"k\": 5})\n",
    "retrieved_path = os.path.join(cwd, 'retrieved_docs')\n",
    "\n",
    "test_retrieve_semester_summary = [\n",
    "    {\"query\":\"生成十六週的學期進度，包含每週每堂課需要涵蓋的內容\",\n",
    "     \"expected_tag0\": \"整學期\"},\n",
    "    {\"query\":\"建立學期計畫\",\n",
    "     \"expected_tag0\": \"整學期\"},\n",
    "    {\"query\":\"幫我出這學期的進度\",\n",
    "     \"expected_tag0\": \"整學期\"},\n",
    "    {\"query\":\"Give me a semester plan that convers all the course material in 16 weeks\",\n",
    "     \"expected_tag0\": \"整學期\"},\n",
    "    {\"query\":\"草擬學期計畫\",\n",
    "     \"expected_tag0\": \"整學期\"},\n",
    "    {\"query\":\"給我課程大綱\",\n",
    "     \"expected_tag0\": \"整學期\"}\n",
    "    ]\n",
    "\n",
    "test_retrieve_individual_chapter_learning_objective = [\n",
    "    {\"query\":\"第一單元有什麼學習重點？\",\n",
    "     \"expected_tag0\": \"第1單元\"},\n",
    "    {\"query\":\"列出第四章學習重點\",\n",
    "     \"expected_tag0\": \"第4單元\"},\n",
    "    {\"query\":\"幫我找第六課的相關影片\",\n",
    "     \"expected_tag0\": \"第6單元\"},\n",
    "    {\"query\":\"幫我出第十單元的題目\",\n",
    "     \"expected_tag0\": \"第10單元\"},\n",
    "    {\"query\":\"What are some key takeaway in chapter three?\",\n",
    "     \"expected_tag0\": \"第3單元\"},\n",
    "    {\"query\":\"List out key learning points of chapter 9\",\n",
    "     \"expected_tag0\": \"第9單元\"},\n",
    "    {\"query\":\"列出第二章的活動內容\",\n",
    "     \"expected_tag0\": \"第2單元\"},\n",
    "]\n",
    "\n",
    "test_cases = [\n",
    "    *test_retrieve_semester_summary,\n",
    "    *test_retrieve_individual_chapter_learning_objective\n",
    "    ]\n",
    "\n",
    "for i, test in enumerate(test_cases):\n",
    "    query = test[\"query\"]\n",
    "    expected = test[\"expected_tag0\"]\n",
    "    docs = test_retriever(retriever, query, retrieved_path, print_docs=False, save_docs=False)\n",
    "    print(f\"Test {i}: {query}\")\n",
    "    success = False\n",
    "    for j, doc in enumerate(docs[:2]):\n",
    "        if expected in doc.page_content[:40]:\n",
    "            print(f\"✅ Success: detected tag {expected} at doc number {j}\")\n",
    "            success = True\n",
    "            break\n",
    "        else:\n",
    "            print(f\"Fail: expected {expected} but the retrieved doc is {doc.page_content[:40]}...\" )\n",
    "    if not success:\n",
    "        print(f\"❌ Fail: query = {query}; expected = {expected}\")\n",
    "\n"
   ]
  },
  {
   "cell_type": "code",
   "execution_count": 41,
   "metadata": {},
   "outputs": [
    {
     "name": "stdout",
     "output_type": "stream",
     "text": [
      "[{'tags': ['整學期', '全部內容', '學期計畫', '教學進度'....\n",
      "===================\n",
      "[{'tags': ['第1單元', 'chapter1', '第一單元', '....\n",
      "===================\n",
      "[{'tags': ['第4單元', 'chapter4', '第四單元', '....\n",
      "===================\n",
      "[{'tags': ['第2單元', 'chapter2', '第二單元', '....\n",
      "===================\n",
      "[{'tags': ['第6單元', 'chapter6', '第六單元', '....\n",
      "===================\n",
      "Elapsed time: 0.21 seconds\n"
     ]
    }
   ],
   "source": [
    "# Test specific query\n",
    "query = \"給我課程大綱\"\n",
    "docs = test_retriever(retriever, query, retrieved_path, print_docs=True, save_docs=False)"
   ]
  }
 ],
 "metadata": {
  "kernelspec": {
   "display_name": "ibm_cfc",
   "language": "python",
   "name": "python3"
  },
  "language_info": {
   "codemirror_mode": {
    "name": "ipython",
    "version": 3
   },
   "file_extension": ".py",
   "mimetype": "text/x-python",
   "name": "python",
   "nbconvert_exporter": "python",
   "pygments_lexer": "ipython3",
   "version": "3.11.9"
  }
 },
 "nbformat": 4,
 "nbformat_minor": 2
}
