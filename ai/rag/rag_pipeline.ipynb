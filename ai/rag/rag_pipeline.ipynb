{
 "cells": [
  {
   "cell_type": "markdown",
   "metadata": {},
   "source": [
    "# RAG Pipeline\n",
    "This file splits and stores each document into vector embeddings."
   ]
  },
  {
   "cell_type": "code",
   "execution_count": 15,
   "metadata": {},
   "outputs": [],
   "source": [
    "\n",
    "# import packages\n",
    "from dotenv import load_dotenv\n",
    "import os\n",
    "from langchain.text_splitter import RecursiveCharacterTextSplitter\n",
    "from langchain.vectorstores import FAISS\n",
    "from langchain_cohere import CohereEmbeddings\n",
    "from langchain_community.document_loaders import JSONLoader\n",
    "from langchain.schema import Document"
   ]
  },
  {
   "cell_type": "code",
   "execution_count": 16,
   "metadata": {},
   "outputs": [],
   "source": [
    "# Path parameters and environment variables\n",
    "cwd = os.getcwd()\n",
    "env_path = os.path.join(os.path.dirname(cwd), '.env')\n",
    "load_dotenv(dotenv_path=env_path)\n",
    "\n",
    "# Modify the path parameters as needed\n",
    "text_docs = []\n"
   ]
  },
  {
   "cell_type": "markdown",
   "metadata": {},
   "source": [
    "## Part 1: Loading Documents"
   ]
  },
  {
   "cell_type": "code",
   "execution_count": 17,
   "metadata": {},
   "outputs": [],
   "source": [
    "def load_split_doc(path, separators, chunk_size, chunk_overlap):\n",
    "    # Load the organized textbook data\n",
    "    with open(path, \"r\", encoding=\"utf-8\") as file:\n",
    "        extracted_text = file.read()   \n",
    "    # Create a RecursiveCharacterTextSplitter object to split the text into chunks\n",
    "    text_splitter = RecursiveCharacterTextSplitter(\n",
    "        separators=separators,\n",
    "        chunk_size=chunk_size,       # Maximum number of characters in each chunk\n",
    "        chunk_overlap=chunk_overlap,     # Number of characters that overlap between consecutive chunks\n",
    "        length_function=len,    # Function to measure the length of chunks\n",
    "    )\n",
    "    docs = text_splitter.create_documents([extracted_text])\n",
    "    text_docs.extend(docs)\n",
    "    return docs\n",
    "\n",
    "def load_doc(path):\n",
    "    with open(path, \"r\", encoding=\"utf-8\") as file:\n",
    "        extracted_text = file.read()\n",
    "    doc = Document(page_content=extracted_text)\n",
    "    text_docs.append(doc)\n",
    "    \n",
    "def load_doc_dir(dir_path, metadata=None):\n",
    "    documents = []\n",
    "    # Loop through each chapter file (1 to 10)\n",
    "    for filename in os.listdir(dir_path):\n",
    "        with open(os.path.join(dir_path, filename), \"r\", encoding=\"utf-8\") as file:\n",
    "            extracted_text = file.read()\n",
    "        doc = Document(page_content=extracted_text, metadata=metadata)\n",
    "        documents.append(doc)\n",
    "    text_docs.extend(documents)\n",
    "    return documents\n",
    "\n",
    "def load_json(path):\n",
    "    loader = JSONLoader(file_path=path, jq_schema=\".\", text_content=False)\n",
    "    data = loader.load()\n",
    "    # Append loaded documents to the list\n",
    "    text_docs.extend(data)\n",
    "    return data\n",
    "    \n",
    "def load_json_dir(dir_path):\n",
    "    documents = []\n",
    "    # Loop through each chapter file (1 to 10)\n",
    "    for filename in os.listdir(dir_path):\n",
    "        # Load each JSON file\n",
    "        loader = JSONLoader(file_path=os.path.join(dir_path, filename), jq_schema=\".\", text_content=False)\n",
    "        data = loader.load()\n",
    "        # Append loaded documents to the list\n",
    "        documents.extend(data)\n",
    "\n",
    "    text_docs.extend(documents)\n",
    "    return documents\n"
   ]
  },
  {
   "cell_type": "code",
   "execution_count": 18,
   "metadata": {},
   "outputs": [],
   "source": [
    "# Load the organized textbook data\n",
    "separators = ['#','##','###']\n",
    "chunk_size = 1000\n",
    "chunk_overlap = 0 # we are splitting by tags so there shouldn't be tokens that got cut\n",
    "textbook_extracted_path = os.path.join(cwd,'..', 'data_processing', 'processed_data','kang_math_textbook_edited.md')\n",
    "\n",
    "# load_split_doc(textbook_extracted_path, separators, chunk_size, chunk_overlap);"
   ]
  },
  {
   "cell_type": "code",
   "execution_count": 19,
   "metadata": {},
   "outputs": [],
   "source": [
    "# Load json course plan\n",
    "dir_path = os.path.join(cwd,'..', 'data_processing', 'processed_data','course_plan')\n",
    "\n",
    "load_json_dir(dir_path);"
   ]
  },
  {
   "cell_type": "code",
   "execution_count": 20,
   "metadata": {},
   "outputs": [],
   "source": [
    "# Load video file\n",
    "video_file_path = os.path.join(cwd,'..', 'data_processing', 'processed_data','videos')\n",
    "\n",
    "metadata = {\n",
    "    \"type\" : \"video\",\n",
    "    \"tags\" : [\"video\",  \"教學影片\", \"影片\", \"短片\", \"clips\", \"media\", \"learning_resource\", \"multimedia\"]\n",
    "}\n",
    "load_doc_dir(video_file_path, metadata);"
   ]
  },
  {
   "cell_type": "code",
   "execution_count": 21,
   "metadata": {},
   "outputs": [],
   "source": [
    "# Write all chunks into files to see if they are semantically separated\n",
    "new_directory = os.path.join(cwd, 'chunks')\n",
    "os.makedirs(new_directory, exist_ok=True)\n",
    "for i, text in enumerate(text_docs):\n",
    "    file_path = os.path.join(new_directory, f'chunk{i}.md')\n",
    "    with open(file_path, 'w', encoding='utf-8') as file:\n",
    "        file.write(text.page_content)"
   ]
  },
  {
   "cell_type": "markdown",
   "metadata": {},
   "source": [
    "## Part 2: Convert Text Chunks into Embeddings"
   ]
  },
  {
   "cell_type": "code",
   "execution_count": 22,
   "metadata": {},
   "outputs": [],
   "source": [
    "COHERE_KEY = os.getenv(\"COHERE_KEY\")\n",
    "vector_path = os.path.join(cwd, 'vector-stores', 'vid_and_json_vs')\n",
    "\n",
    "embeddings = CohereEmbeddings(cohere_api_key=COHERE_KEY, model=\"embed-multilingual-v3.0\")\n",
    "\n",
    "# Initialize FAISS (Facebook AI Similarity Search) vector store, converting raw text chunks into embeddings\n",
    "faiss_store = FAISS.from_documents(text_docs, embeddings)\n",
    "# Define the save path and the name for the vector store\n",
    "os.makedirs(vector_path, exist_ok=True)\n",
    "\n",
    "# Save FAISS vector store to disk with a name\n",
    "faiss_store.save_local(vector_path)"
   ]
  },
  {
   "cell_type": "markdown",
   "metadata": {},
   "source": [
    "# Part 3: Testing"
   ]
  },
  {
   "cell_type": "code",
   "execution_count": 23,
   "metadata": {},
   "outputs": [],
   "source": [
    "# Test Retrieval Behavior\n",
    "from tests.test_retriever import * \n",
    "embedding_path = os.path.join(cwd, 'vector-stores', 'vid_and_json_vs')\n",
    "faiss_store = FAISS.load_local(\n",
    "    embedding_path, embeddings, allow_dangerous_deserialization=True\n",
    ")\n",
    "retriever = faiss_store.as_retriever(search_kwargs={\"k\": 5})\n",
    "retrieved_path = os.path.join(cwd, 'retrieved_docs')\n",
    "\n",
    "test_retrieve_semester_summary = [\n",
    "    {\"query\":\"生成十六週的學期進度，包含每週每堂課需要涵蓋的內容\",\n",
    "     \"expected_tag0\": \"整學期\"},\n",
    "    {\"query\":\"建立學期計畫\",\n",
    "     \"expected_tag0\": \"整學期\"},\n",
    "    {\"query\":\"幫我出這學期的進度\",\n",
    "     \"expected_tag0\": \"整學期\"},\n",
    "    {\"query\":\"Give me a semester plan that convers all the course material in 16 weeks\",\n",
    "     \"expected_tag0\": \"整學期\"},\n",
    "    {\"query\":\"草擬學期計畫\",\n",
    "     \"expected_tag0\": \"整學期\"},\n",
    "    {\"query\":\"給我課程大綱\",\n",
    "     \"expected_tag0\": \"整學期\"}\n",
    "    ]\n",
    "\n",
    "test_retrieve_individual_chapter_learning_objective = [\n",
    "    {\"query\":\"第一單元有什麼學習重點？\",\n",
    "     \"expected_tag0\": \"第1單元\"},\n",
    "    {\"query\":\"列出第四章學習重點\",\n",
    "     \"expected_tag0\": \"第4單元\"},\n",
    "    {\"query\":\"幫我找第六課的相關影片\",\n",
    "     \"expected_tag0\": \"第6單元\"},\n",
    "    {\"query\":\"幫我出第十單元的題目\",\n",
    "     \"expected_tag0\": \"第10單元\"},\n",
    "    {\"query\":\"What are some key takeaway in chapter three?\",\n",
    "     \"expected_tag0\": \"第3單元\"},\n",
    "    {\"query\":\"List out key learning points of chapter 9\",\n",
    "     \"expected_tag0\": \"第9單元\"},\n",
    "    {\"query\":\"列出第二章的活動內容\",\n",
    "     \"expected_tag0\": \"第2單元\"},\n",
    "]\n",
    "\n",
    "test_cases = [\n",
    "    *test_retrieve_semester_summary,\n",
    "    *test_retrieve_individual_chapter_learning_objective\n",
    "    ]\n",
    "\n",
    "# for i, test in enumerate(test_cases):\n",
    "#     query = test[\"query\"]\n",
    "#     expected = test[\"expected_tag0\"]\n",
    "#     docs = test_retriever(retriever, query, retrieved_path, print_docs=False, save_docs=False)\n",
    "#     print(f\"Test {i}: {query}\")\n",
    "#     success = False\n",
    "#     for j, doc in enumerate(docs[:2]):\n",
    "#         if expected in doc.page_content[:40]:\n",
    "#             print(f\"✅ Success: detected tag {expected} at doc number {j}\")\n",
    "#             print(doc.page_content[:40])\n",
    "#             success = True\n",
    "#             break\n",
    "#         else:\n",
    "#             print(f\"Fail: expected {expected} but the retrieved doc is {doc.page_content[:40]}...\" )\n",
    "#     if not success:\n",
    "#         print(f\"❌ Fail: query = {query}; expected = {expected}\")\n",
    "\n"
   ]
  },
  {
   "cell_type": "code",
   "execution_count": 29,
   "metadata": {},
   "outputs": [
    {
     "name": "stdout",
     "output_type": "stream",
     "text": [
      "[{'tags': ['第2單元', 'chapter2', '第二單元', '....\n",
      "===================\n",
      "[{'tags': ['第1單元', 'chapter1', '第一單元', '....\n",
      "===================\n",
      "[{'tags': ['第4單元', 'chapter4', '第四單元', '....\n",
      "===================\n",
      "[{'tags': ['第8單元', 'chapter8', '第八單元', '....\n",
      "===================\n",
      "# 康軒數學五年級上學期教學影片 education video 影片 媒體 章....\n",
      "===================\n",
      "Elapsed time: 0.26 seconds\n"
     ]
    }
   ],
   "source": [
    "# Test video retrieval\n",
    "query = \"尋找並列出第二單元每個章節的教學影片\"\n",
    "docs = test_retriever(retriever, query, retrieved_path, print_docs=True, save_docs=False)"
   ]
  },
  {
   "cell_type": "code",
   "execution_count": 25,
   "metadata": {},
   "outputs": [
    {
     "name": "stdout",
     "output_type": "stream",
     "text": [
      "[{'tags': ['整學期', '全部內容', '學期計畫', '教學進度'....\n",
      "===================\n",
      "[{'tags': ['第1單元', 'chapter1', '第一單元', '....\n",
      "===================\n",
      "[{'tags': ['第4單元', 'chapter4', '第四單元', '....\n",
      "===================\n",
      "[{'tags': ['第2單元', 'chapter2', '第二單元', '....\n",
      "===================\n",
      "[{'tags': ['第6單元', 'chapter6', '第六單元', '....\n",
      "===================\n",
      "Elapsed time: 0.21 seconds\n"
     ]
    }
   ],
   "source": [
    "# Test specific query\n",
    "query = \"給我課程大綱\"\n",
    "docs = test_retriever(retriever, query, retrieved_path, print_docs=True, save_docs=False)"
   ]
  }
 ],
 "metadata": {
  "kernelspec": {
   "display_name": "ibm_cfc",
   "language": "python",
   "name": "python3"
  },
  "language_info": {
   "codemirror_mode": {
    "name": "ipython",
    "version": 3
   },
   "file_extension": ".py",
   "mimetype": "text/x-python",
   "name": "python",
   "nbconvert_exporter": "python",
   "pygments_lexer": "ipython3",
   "version": "3.11.9"
  }
 },
 "nbformat": 4,
 "nbformat_minor": 2
}
