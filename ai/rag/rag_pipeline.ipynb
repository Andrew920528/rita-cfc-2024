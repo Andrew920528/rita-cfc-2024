{
 "cells": [
  {
   "cell_type": "markdown",
   "metadata": {},
   "source": [
    "# RAG Pipeline\n",
    "This file splits and stores each document into vector embeddings."
   ]
  },
  {
   "cell_type": "code",
   "execution_count": 39,
   "metadata": {},
   "outputs": [],
   "source": [
    "\n",
    "# import packages\n",
    "from dotenv import load_dotenv\n",
    "import os\n",
    "from langchain.text_splitter import RecursiveCharacterTextSplitter\n",
    "from langchain.vectorstores import FAISS\n",
    "from langchain_cohere import CohereEmbeddings\n",
    "from langchain_community.document_loaders import JSONLoader\n",
    "from langchain.schema import Document"
   ]
  },
  {
   "cell_type": "code",
   "execution_count": 40,
   "metadata": {},
   "outputs": [],
   "source": [
    "# Path parameters and environment variables\n",
    "cwd = os.getcwd()\n",
    "env_path = os.path.join(os.path.dirname(cwd), '.env')\n",
    "load_dotenv(dotenv_path=env_path)\n",
    "\n",
    "# Modify the path parameters as needed\n",
    "text_docs = []\n"
   ]
  },
  {
   "cell_type": "markdown",
   "metadata": {},
   "source": [
    "## Part 1: Loading Documents"
   ]
  },
  {
   "cell_type": "code",
   "execution_count": 41,
   "metadata": {},
   "outputs": [],
   "source": [
    "def load_split_doc(path, separators, chunk_size, chunk_overlap):\n",
    "    # Load the organized textbook data\n",
    "    with open(path, \"r\", encoding=\"utf-8\") as file:\n",
    "        extracted_text = file.read()   \n",
    "    # Create a RecursiveCharacterTextSplitter object to split the text into chunks\n",
    "    text_splitter = RecursiveCharacterTextSplitter(\n",
    "        separators=separators,\n",
    "        chunk_size=chunk_size,       # Maximum number of characters in each chunk\n",
    "        chunk_overlap=chunk_overlap,     # Number of characters that overlap between consecutive chunks\n",
    "        length_function=len,    # Function to measure the length of chunks\n",
    "    )\n",
    "    docs = text_splitter.create_documents([extracted_text])\n",
    "    text_docs.extend(docs)\n",
    "    return docs\n",
    "\n",
    "def load_doc(path):\n",
    "    with open(path, \"r\", encoding=\"utf-8\") as file:\n",
    "        extracted_text = file.read()\n",
    "    doc = Document(page_content=extracted_text)\n",
    "    text_docs.append(doc)\n",
    "    \n",
    "def load_doc_dir(dir_path, metadata=None):\n",
    "    documents = []\n",
    "    # Loop through each chapter file (1 to 10)\n",
    "    for filename in os.listdir(dir_path):\n",
    "        with open(os.path.join(dir_path, filename), \"r\", encoding=\"utf-8\") as file:\n",
    "            extracted_text = file.read()\n",
    "        doc = Document(page_content=extracted_text, metadata=metadata)\n",
    "        documents.append(doc)\n",
    "    text_docs.extend(documents)\n",
    "    return documents\n",
    "\n",
    "def load_json(path):\n",
    "    loader = JSONLoader(file_path=path, jq_schema=\".\", text_content=False)\n",
    "    data = loader.load()\n",
    "    # Append loaded documents to the list\n",
    "    text_docs.extend(data)\n",
    "    return data\n",
    "    \n",
    "def load_json_dir(dir_path):\n",
    "    documents = []\n",
    "    # Loop through each chapter file (1 to 10)\n",
    "    for filename in os.listdir(dir_path):\n",
    "        # Load each JSON file\n",
    "        loader = JSONLoader(file_path=os.path.join(dir_path, filename), jq_schema=\".\", text_content=False)\n",
    "        data = loader.load()\n",
    "        # Append loaded documents to the list\n",
    "        documents.extend(data)\n",
    "\n",
    "    text_docs.extend(documents)\n",
    "    return documents\n"
   ]
  },
  {
   "cell_type": "code",
   "execution_count": 42,
   "metadata": {},
   "outputs": [],
   "source": [
    "# Load the organized textbook data\n",
    "separators = ['#','##','###']\n",
    "chunk_size = 1000\n",
    "chunk_overlap = 0 # we are splitting by tags so there shouldn't be tokens that got cut\n",
    "textbook_extracted_path = os.path.join(cwd,'..', 'data_processing', 'processed_data','kang_math_textbook_edited.md')\n",
    "\n",
    "# load_split_doc(textbook_extracted_path, separators, chunk_size, chunk_overlap);"
   ]
  },
  {
   "cell_type": "code",
   "execution_count": 43,
   "metadata": {},
   "outputs": [],
   "source": [
    "# Load json course plan\n",
    "dir_path = os.path.join(cwd,'..', 'data_processing', 'processed_data','course_plan')\n",
    "\n",
    "load_json_dir(dir_path);"
   ]
  },
  {
   "cell_type": "code",
   "execution_count": 44,
   "metadata": {},
   "outputs": [
    {
     "data": {
      "text/plain": [
       "[Document(metadata={'type': 'video', 'tags': ['video', '教學影片', '影片', '短片', 'clips', 'media', 'learning_resource', 'multimedia']}, page_content='# 康軒數學五年級上學期教學影片 education video\\n第六單元 chapter 6 chapter six\\n## 【五上】第六單元 異分母分數的加減\\n\\n【前導】埃及的分數表示法:\\nhttps://www.junyiacademy.org/article/6a5b26afdd544245a4fd12e643eef927\\n\\n### 6-1 異分母分數的加法\\n\\n【解題】異分母分數的加法： 1/6 + 3/4:\\nhttps://www.junyiacademy.org/article/e01acd0300d84bc6a283b080534d96a0\\n【解題】異分母分數的加法： 3/4 + 27/18:\\nhttps://www.junyiacademy.org/article/f749f9a8e78f4f4d8946f9e089d42124\\n【解題】異分母分數的加法：帶分數 + 假分數:\\nhttps://www.junyiacademy.org/article/ba9e6ce1e8e94e56b5490be788617671\\n【基礎】異分母加法計算:\\nhttps://www.junyiacademy.org/course-compare/math-elem/math-5/k-m5a_y112/k-m5a-c06_y112/e/n-m5ach6-1a\\n【基礎】異分母加法的應用:\\nhttps://www.junyiacademy.org/course-compare/math-elem/math-5/k-m5a_y112/k-m5a-c06_y112/e/n-m5ach6-1b\\n\\n### 6-2 異分母分數的減法\\n\\n【解題】異分母分數的減法：3/4 – 1/8:\\nhttps://www.junyiacademy.org/article/2e51a44b954b4d5996e5e07545967e30\\n【解題】異分母分數的減法：5/9 – 1/6:\\nhttps://www.junyiacademy.org/article/902e78d2c1ec45d5a4e8c4a54bdff083\\n【解題】異分母分數的減法：13/12 – 10/15:\\nhttps://www.junyiacademy.org/article/1690ff75db1b44c58cbd43d1abdc9fbc\\n【解題】異分母分數的減法：假分數 – 帶分數:\\nhttps://www.junyiacademy.org/article/2c7a7faf7b4643f18d2c4aa2b1115720\\n【基礎】異分母減法計算:\\nhttps://www.junyiacademy.org/course-compare/math-elem/math-5/k-m5a_y112/k-m5a-c06_y112/e/n-m5ach6-2a\\n【基礎】異分母減法的應用:\\nhttps://www.junyiacademy.org/course-compare/math-elem/math-5/k-m5a_y112/k-m5a-c06_y112/e/n-m5ach6-2b\\n\\n### 6-3 分數的應用\\n\\n【解題】多步驟應用問題：先除再減:\\nhttps://www.junyiacademy.org/article/3a3b64d55e384d21b2bbf1427b8e9d97\\n【解題】1/12 要加上哪兩個分數會等於 1:\\nhttps://www.junyiacademy.org/article/02bd937e2cb146c89bbb90b8ebfbeced\\n【基礎】分數的應用:\\nhttps://www.junyiacademy.org/course-compare/math-elem/math-5/k-m5a_y112/k-m5a-c06_y112/e/n-m5ach6-3a'),\n",
       " Document(metadata={'type': 'video', 'tags': ['video', '教學影片', '影片', '短片', 'clips', 'media', 'learning_resource', 'multimedia']}, page_content='# 康軒數學五年級上學期教學影片 education video\\n\\n第九單元 chapter 9 chapter nine\\n\\n### 9-4 複合圖形的面積:\\n\\nhttps://www.junyiacademy.org/course-compare/math-elem/math-5/k-m5a_y112/k-m5a-c09_y112/e/mesfl5cd\\n【解題】複合圖形的面積計算 1\\nhttps://www.junyiacademy.org/article/c600bf09812144aea5712bbdbfffdd0e\\n【解題】複合圖形的面積計算 2\\nhttps://www.junyiacademy.org/article/8c8e0a6b2ca048dabbc64b8117efabbe\\n【解題】複合圖形的面積計算 3\\nhttps://www.junyiacademy.org/article/a6c9e4ea4bfb44f1902a406415ca8bff\\n【解題】複合圖形的面積計算 4\\nhttps://www.junyiacademy.org/article/d2fc1ae2be0c4f25972e2bb7aeaba7ce\\n【解題】複合圖形的面積計算 5\\nhttps://www.junyiacademy.org/article/a05a9a498803426e913e5ef45e2a86de\\n【基礎】面積公式的應用\\nhttps://www.junyiacademy.org/course-compare/math-elem/math-5/k-m5a_y112/k-m5a-c09_y112/e/n-m5ach8-5a\\n'),\n",
       " Document(metadata={'type': 'video', 'tags': ['video', '教學影片', '影片', '短片', 'clips', 'media', 'learning_resource', 'multimedia']}, page_content='# 康軒數學五年級上學期教學影片 education video\\n第十單元 chapter 10 chapter ten\\n## 【五上】第十單元 柱體、錐體和球\\n\\n【前導 】金字塔\\nhttps://www.junyiacademy.org/article/53ae6c25af7745b8a48f00f790ceeab4\\n\\n### 10-1 柱體和錐體的分類與命名:\\n\\n【觀念】認識角柱\\nhttps://www.junyiacademy.org/article/c8ebbcf0d6f84d4890fbc8a0541c6751\\n【觀念】認識角錐\\nhttps://www.junyiacademy.org/article/da621b154a3443188fcbfa4af8a9ecb1\\n【觀念】認識圓柱\\nhttps://www.junyiacademy.org/article/dc802042da8a426988eda540d70c144b\\n【觀念】認識圓錐\\nhttps://www.junyiacademy.org/article/b67823d3f50d47bdbccdfc6baf5b27e9\\n【基礎】立體形體的分類\\n\\n### 10-2 角柱和角錐的構成要素及關係:\\n\\nhttps://www.junyiacademy.org/course-compare/math-elem/math-5/k-m5a_y112/k-m5a-c10_y112/e/mescu5ca\\n【觀念】角柱底面的頂點個數，和角柱的頂點有什麼關係\\nhttps://www.junyiacademy.org/article/c496c4f052e94ef38f0f8232dbb48a02\\n【觀念】角柱的一個底面邊的個數，和角柱面的個數有什麼關係\\nhttps://www.junyiacademy.org/article/b9e575b7c2b0449182627dff009eb3f1\\n【觀念】角柱的一個底面邊的個數，和角柱邊的個數有什麼關係\\nhttps://www.junyiacademy.org/article/096ba78fa2ad49a0aa5c6b5a9c56eeb7\\n【基礎】柱體的構成要素'),\n",
       " Document(metadata={'type': 'video', 'tags': ['video', '教學影片', '影片', '短片', 'clips', 'media', 'learning_resource', 'multimedia']}, page_content='# 康軒數學五年級上學期教學影片 education video\\n\\n第七單元 chapter 7 chapter seven\\n\\n## 【五上】第七單元 線對稱圖形\\n\\n### 7-1 認識線對稱圖形\\n\\n【解題】判斷是否線對稱圖形:\\nhttps://www.junyiacademy.org/article/3616ea9c10a34f1eb80c252e8fe592b0\\n【解題】找出線對稱圖形有幾條對稱軸:\\nhttps://www.junyiacademy.org/article/211a27fbab6f42f9810358aa35079761\\n【基礎】認識線對稱圖形及對稱軸:\\nhttps://www.junyiacademy.org/course-compare/math-elem/math-5/k-m5a_y112/k-m5a-c07_y112/e/mesfl5da\\n\\n### 7-2 對稱點、對稱邊和對稱角\\n\\n【觀念】認識對稱點、對稱邊和對稱角:\\nhttps://www.junyiacademy.org/article/b29c7cc6bb7f4977b04ca4714affa326\\n【基礎】對稱點、對稱邊和對稱角 2:\\nhttps://www.junyiacademy.org/course-compare/math-elem/math-5/k-m5a_y112/k-m5a-c07_y112/e/mesfl5db\\n\\n### 7-3 繪製線對稱圖形\\n\\n【解題】在方格紙上畫出線對稱圖形的另一半 1:\\nhttps://www.junyiacademy.org/article/7eb095ca440d4259b33874881e816d2c\\n【解題】在方格紙上畫出線對稱圖形的另一半 2:\\nhttps://www.junyiacademy.org/article/9cd2d7a76a154bb6965dcb957cb1aa48\\n【解題】在釘點紙上畫出線對稱圖形的另一半:\\nhttps://www.junyiacademy.org/article/dbc5b67815454bf78cfed9f602e1436a\\n【基礎】畫出線對稱圖形:\\nhttps://www.junyiacademy.org/course-compare/math-elem/math-5/k-m5a_y112/k-m5a-c07_y112/e/n-m5ach5-3a\\n\\n### 7-4 線對稱圖形的應用\\n\\n【基礎】剪出線對稱圖形:\\nhttps://www.junyiacademy.org/course-compare/math-elem/math-5/k-m5a_y112/k-m5a-c07_y112/e/n-m5ach5-4a\\n'),\n",
       " Document(metadata={'type': 'video', 'tags': ['video', '教學影片', '影片', '短片', 'clips', 'media', 'learning_resource', 'multimedia']}, page_content='# 康軒數學五年級上學期教學影片 education video\\n\\n第十單元 chapter 10 chapter ten\\n\\n### 10-3 面與面的關係:\\n\\nhttps://www.junyiacademy.org/course-compare/math-elem/math-5/k-m5a_y112/k-m5a-c10_y112/e/mescu5cb\\n【觀念】角錐底面的頂點個數，和角錐的頂點有什麼關係\\nhttps://www.junyiacademy.org/article/2d4a94939f22490d8b58357ea7ed22c2\\n【觀念】角錐底面邊的個數，和角錐面的個數有什麼關係\\nhttps://www.junyiacademy.org/article/4b7c0ff6cca64cf389c2a4871204f109\\n【觀念】角錐底面邊的個數，和角錐邊的個數有什麼關係\\nhttps://www.junyiacademy.org/article/2020343859c44f9ea701cf4b3e8da82b\\n【基礎】錐體的構成要素\\nhttps://www.junyiacademy.org/course-compare/math-elem/math-5/k-m5a_y112/k-m5a-c10_y112/e/mescu5cc\\n【觀念】正方體中相鄰的面互相垂直\\nhttps://www.junyiacademy.org/article/89daae53472544febbfd9da8552724b0\\n【解題】利用正方體中相鄰的面互相垂直來檢查兩面是否互相垂直\\nhttps://www.junyiacademy.org/article/02b9f9926a1e40669ec9d5e96b7ee710\\n【觀念】正方體中相對的面互相平行\\nhttps://www.junyiacademy.org/article/b3ddfcb679324010bafa207df11631ba\\n【觀念】面與面的平行與垂直關係\\nhttps://www.junyiacademy.org/course-compare/math-elem/math-5/k-m5a_y112/k-m5a-c10_y112/v/HMW9lsVvlpA\\n【基礎】面和面及邊和面的垂直關係\\nhttps://www.junyiacademy.org/course-compare/math-elem/math-5/k-m5a_y112/k-m5a-c10_y112/e/n-m6ach9-3a\\n【基礎】面和面的平行關係\\nhttps://www.junyiacademy.org/course-compare/math-elem/math-5/k-m5a_y112/k-m5a-c10_y112/e/n-m6ach9-4a\\n\\n### 10-4 柱體和錐體的展開圖:\\n\\n【觀念】操作展開圖做出三角柱與四角錐\\nhttps://www.junyiacademy.org/article/e9d34399cedb4daba218bc3c56e9427f\\n\\n### 10-5 球:\\n\\n【觀念】認識球\\nhttps://www.junyiacademy.org/article/58fb5e40db224999bd427dcb3a9e972d\\n【觀念】將貼著竹筷子的圓形紙卡快速旋轉，看起來像什麼形體\\nhttps://www.junyiacademy.org/article/fe498a5f6eb9442890338be8de97996c\\n【觀念】圓心到圓周上每個點的距離和球心到球面上每個點的距離都一樣長嗎\\nhttps://www.junyiacademy.org/article/a26f1474be28464c9da5544d46c2987e\\n【基礎】認識球 1\\nhttps://www.junyiacademy.org/course-compare/math-elem/math-5/k-m5a_y112/k-m5a-c10_y112/e/n-m5bch7-6a\\n'),\n",
       " Document(metadata={'type': 'video', 'tags': ['video', '教學影片', '影片', '短片', 'clips', 'media', 'learning_resource', 'multimedia']}, page_content='# 康軒數學五年級上學期教學影片 education video\\n\\n第二單元 chapter 2 chapter two\\n\\n### 2-3 公因數和最大公因數\\n\\n【觀念】認識公因數及最大公因數: 找出 12 與 18 的公因數及最大公因數:\\nhttps://www.junyiacademy.org/article/28b252fb54ab4d948f4b585bf058cbec\\n【基礎】認識公因數:\\nhttps://www.junyiacademy.org/course-compare/math-elem/math-5/k-m5a_y112/k-m5a-c02_y112/e/m3ayb-ba\\n【基礎】找出最大公因數:\\nhttps://www.junyiacademy.org/course-compare/math-elem/math-5/k-m5a_y112/k-m5a-c02_y112/e/menzs5ce\\n【解題】公因數的應用題型 1（03:29）:\\nhttps://www.junyiacademy.org/course-compare/math-elem/math-5/k-m5a_y112/k-m5a-c02_y112/v/3PCVgXFOEpA\\n【解題】公因數的應用題型 2（04:01）:\\nhttps://www.junyiacademy.org/course-compare/math-elem/math-5/k-m5a_y112/k-m5a-c02_y112/v/mplCcsLT8-E\\n【解題】公因數的應用題型 3（03:40）:\\nhttps://www.junyiacademy.org/course-compare/math-elem/math-5/k-m5a_y112/k-m5a-c02_y112/v/xF32Sh_MyqE\\n【基礎】公因數的應用問題:\\nhttps://www.junyiacademy.org/course-compare/math-elem/math-5/k-m5a_y112/k-m5a-c02_y112/e/m3ayb-bc\\n【解題】最大公因數題型 1：分裝兩種不同數量的物品（05:39）:\\nhttps://www.junyiacademy.org/course-compare/math-elem/math-5/k-m5a_y112/k-m5a-c02_y112/v/Qo7s9UfPctE\\n【解題】最大公因數題型 2：大長方形切割成小正方形（05:48）:\\nhttps://www.junyiacademy.org/course-compare/math-elem/math-5/k-m5a_y112/k-m5a-c02_y112/v/YpTUWUPphDw\\n【挑戰】最大公因數的應用題:\\nhttps://www.junyiacademy.org/course-compare/math-elem/math-5/k-m5a_y112/k-m5a-c02_y112/e/menzs5ca\\n'),\n",
       " Document(metadata={'type': 'video', 'tags': ['video', '教學影片', '影片', '短片', 'clips', 'media', 'learning_resource', 'multimedia']}, page_content='# 康軒數學五年級上學期教學影片 education video\\n第三單元 chapter 3 chapter three\\n## 【五上】第三單元 倍數與公倍數\\n\\n### 3-1 倍數:\\n\\n【一般】認識倍數:\\nhttps://www.junyiacademy.org/course-compare/math-elem/math-5/k-m5a_y112/k-m5a-c03_y112/e/m3ayb-ac\\n【解題】找出 80 與 100 之間 7 的倍數:\\nhttps://www.junyiacademy.org/article/9a57227222874147a0764f32ae335d22\\n【解題】找出最接近 500 但小於 500 的 15 的倍數:\\nhttps://www.junyiacademy.org/article/cbf26989a58e40dc849ee0dcc3f843a0\\n【解題】找出 580 與 650 之間最大與最小的 15 的倍數:\\nhttps://www.junyiacademy.org/article/835db1407f9a4fc7af2d67805a7e8dcf\\n【一般】倍數的應用:\\nhttps://www.junyiacademy.org/course-compare/math-elem/math-5/k-m5a_y112/k-m5a-c03_y112/e/menzs5bc\\n\\n### 3-2 判別 2、5、10 的倍數\\n\\n【觀念】判別 2 的倍數:\\nhttps://www.junyiacademy.org/article/5a69b71c8c1647b1825dffc7f4878d64\\n【觀念】判別 5 的倍數:\\nhttps://www.junyiacademy.org/article/c6ba3e1af7434ed79645ef333e350ac4\\n【觀念】判別 10 的倍數:\\nhttps://www.junyiacademy.org/article/566b40e3af87494fa3d5fd10d940c14f\\n【一般】判別 2、3、5、10 的倍數:\\nhttps://www.junyiacademy.org/course-compare/math-elem/math-5/k-m5a_y112/k-m5a-c03_y112/e/menzs5bd'),\n",
       " Document(metadata={'type': 'video', 'tags': ['video', '教學影片', '影片', '短片', 'clips', 'media', 'learning_resource', 'multimedia']}, page_content='# 康軒數學五年級上學期教學影片 education video\\n第一單元 chapter 1 chapter one\\n## 【五上】第一單元 小數的加減\\n\\n【觀念】小數的由來:\\nhttps://www.junyiacademy.org/article/abe9f80e021048dbb026b4524abef9b4\\n\\n### 1-1 認識多位小數\\n\\n【觀念】認識一千分之一:\\nhttps://www.junyiacademy.org/article/d9e2dbe02e6c4c6c9fdd05e42d6ce3f4\\n【觀念】認識千分位並從定位板記錄三位小數:\\nhttps://www.junyiacademy.org/article/2a076ac798474ad58508cefaf6810fe3\\n【觀念】1.234 是由幾個 1 幾個 0.1 幾個 0.01 和 幾個 0.001 合起來的？:\\nhttps://www.junyiacademy.org/article/d86ef02fa1e14ee1bf675fa91066332a\\n【解題】2.709 是由幾個 1 幾個 0.1 幾個 0.01 和 幾個 0.001 合起來的？:\\nhttps://www.junyiacademy.org/article/aceceae7db2247f3932de02bfbf00727\\n【解題】4.504 其中兩個 4 有什麼不同？:\\nhttps://www.junyiacademy.org/article/2de5ebdb4ea4437db5433c19ae5f85dc\\n【解題】將 2.75304 記在定位板上，並認識十萬分位:\\nhttps://www.junyiacademy.org/article/6c92404d5f1244b884cd55ad91b8caea\\n【解題】將 1.3468 記在定位板上，並認識萬分位:\\nhttps://www.junyiacademy.org/article/f123801f5aee411a9559b1d7841dd600\\n【基礎】多位小數:\\nhttps://www.junyiacademy.org/course-compare/math-elem/math-5/k-m5a_y112/k-m5a-c01_y112/e/mencs5cb\\n\\n### 1-2 小數的大小比較:\\n\\n【解題】利用定位板比較各數字的大小:\\nhttps://www.junyiacademy.org/article/19cd7721253f4838a2bcac258640c9d5\\n【基礎】多位小數的比較:\\nhttps://www.junyiacademy.org/course-compare/math-elem/math-5/k-m5a_y112/k-m5a-c01_y112/e/mencs5cc\\n\\n### 1-3 多位小數的加減:\\n\\n【解題】利用直式計算 0.632 + 4.068:\\nhttps://www.junyiacademy.org/article/83a12b84f99345bc83eea37572837b48\\n【基礎】多位小數的加法:\\nhttps://www.junyiacademy.org/course-compare/math-elem/math-5/k-m5a_y112/k-m5a-c01_y112/e/mencs5cf\\n【解題】利用直式計算 0.801 - 0.1023:\\nhttps://www.junyiacademy.org/article/29d111b3977f4697a49fc46c19aa7302\\n【基礎】多位小數的減法:\\nhttps://www.junyiacademy.org/course-compare/math-elem/math-5/k-m5a_y112/k-m5a-c01_y112/e/mencs5cg'),\n",
       " Document(metadata={'type': 'video', 'tags': ['video', '教學影片', '影片', '短片', 'clips', 'media', 'learning_resource', 'multimedia']}, page_content='# 康軒數學五年級上學期教學影片 education video\\n第三單元 chapter 3 chapter three\\n### 3-3 公倍數和最小公倍數\\n\\n【觀念】什麼是公倍數？（03:37）:\\nhttps://www.junyiacademy.org/course-compare/math-elem/math-5/k-m5a_y112/k-m5a-c03_y112/v/NB2N_8SAouA\\n【解題】如何尋找公倍數？（02:19）:\\nhttps://www.junyiacademy.org/course-compare/math-elem/math-5/k-m5a_y112/k-m5a-c03_y112/v/hUpjgeFtu0Y\\n【解題】找出 4 和 6 的公倍數（02:46）:\\nhttps://www.junyiacademy.org/course-compare/math-elem/math-5/k-m5a_y112/k-m5a-c03_y112/v/tx6VGi5uyY4\\n【解題】找出 6 和 12 的公倍數（03:11）:\\nhttps://www.junyiacademy.org/course-compare/math-elem/math-5/k-m5a_y112/k-m5a-c03_y112/v/DcaXBmGCOkw\\n【解題】尋找公倍數比較快的方法 1（06:04）:\\nhttps://www.junyiacademy.org/course-compare/math-elem/math-5/k-m5a_y112/k-m5a-c03_y112/v/Bd20UEJUFpU\\n【解題】尋找公倍數比較快的方法 2（02:07）:\\nhttps://www.junyiacademy.org/course-compare/math-elem/math-5/k-m5a_y112/k-m5a-c03_y112/v/86PCd9WI5Dg\\n【基礎】認識公倍數:\\nhttps://www.junyiacademy.org/course-compare/math-elem/math-5/k-m5a_y112/k-m5a-c03_y112/e/m3ayb-bd\\n【觀念】什麼是最小公倍數？（03:05）:\\nhttps://www.junyiacademy.org/course-compare/math-elem/math-5/k-m5a_y112/k-m5a-c03_y112/v/1Ft1E8U5iA0\\n【基礎】最小公倍數 1:\\nhttps://www.junyiacademy.org/course-compare/math-elem/math-5/k-m5a_y112/k-m5a-c03_y112/e/menzs5cd\\n【解題】公倍數的應用題型 1（02:21）:\\nhttps://www.junyiacademy.org/course-compare/math-elem/math-5/k-m5a_y112/k-m5a-c03_y112/v/SdxuPOxwOoA\\n【挑戰】公倍數的應用問題:\\nhttps://www.junyiacademy.org/course-compare/math-elem/math-5/k-m5a_y112/k-m5a-c03_y112/e/m3ayb-be'),\n",
       " Document(metadata={'type': 'video', 'tags': ['video', '教學影片', '影片', '短片', 'clips', 'media', 'learning_resource', 'multimedia']}, page_content='# 康軒數學五年級上學期教學影片 education video\\n第一單元 chapter 1 chapter one\\n### 1-4 小數取概數:\\n\\n【解題】小數用四捨五入取概數（03:44）:\\nhttps://www.junyiacademy.org/course-compare/math-elem/math-5/k-m5a_y112/k-m5a-c01_y112/v/ZfMrv3klqvw\\n【解題】除不盡的無限小數用四捨五入取概數（05:06）:\\nhttps://www.junyiacademy.org/course-compare/math-elem/math-5/k-m5a_y112/k-m5a-c01_y112/v/VYyW9IwtyJc\\n【解題】小數用四捨五入取概數的練習題（04:41）:\\nhttps://www.junyiacademy.org/course-compare/math-elem/math-5/k-m5a_y112/k-m5a-c01_y112/v/vv-Ox005jaI\\n【基礎】小數的四捨五入:\\nhttps://www.junyiacademy.org/course-compare/math-elem/math-5/k-m5a_y112/k-m5a-c01_y112/e/mencs5dc'),\n",
       " Document(metadata={'type': 'video', 'tags': ['video', '教學影片', '影片', '短片', 'clips', 'media', 'learning_resource', 'multimedia']}, page_content='# 康軒數學五年級上學期教學影片 education video\\n第二單元 chapter 2 chapter two\\n## 【五上】第二單元 因數與公因數\\n\\n【前導】倍數問題:\\nhttps://www.junyiacademy.org/article/b528d6d0becf414e8682b73853020b14\\n\\n### 2-1 整除\\n\\n【觀念】認識整除：20 個玩具兵可以平分成 2 堆嗎:\\nhttps://www.junyiacademy.org/article/e51430ba3e5e4217b44869de5046684c\\n【基礎】整除:\\nhttps://www.junyiacademy.org/course-compare/math-elem/math-5/k-m5a_y112/k-m5a-c02_y112/e/menzs5ba\\n\\n### 2-2 因數\\n\\n【觀念】認識因數： 12 個小朋友可以平分成幾組:\\nhttps://www.junyiacademy.org/article/c7e3186da6e44a23ab88d28b955de2dd\\n【解題】找出 16 的因數:\\nhttps://www.junyiacademy.org/article/ece385933b8646ecaaaa82583c9e313e\\n【基礎】找出一個數的因數:\\nhttps://www.junyiacademy.org/course-compare/math-elem/math-5/k-m5a_y112/k-m5a-c02_y112/e/m3ayb-aa\\n【觀念】利用乘法找因數（03:12）:\\nhttps://www.junyiacademy.org/course-compare/math-elem/math-5/k-m5a_y112/k-m5a-c02_y112/v/mNdaiixtGbY\\n【基礎】利用乘法找因數:\\nhttps://www.junyiacademy.org/course-compare/math-elem/math-5/k-m5a_y112/k-m5a-c02_y112/e/menzs5bb'),\n",
       " Document(metadata={'type': 'video', 'tags': ['video', '教學影片', '影片', '短片', 'clips', 'media', 'learning_resource', 'multimedia']}, page_content='# 康軒數學五年級上學期教學影片 education video\\n第四單元 chapter 4 chapter four\\n## 【五上】第四單元 擴分、約分和通分\\n\\n### 4-1 擴分\\n\\n【觀念】認識擴分:\\nhttps://www.junyiacademy.org/article/3d599fb7df794b66b96b466073f08138\\n【解題】找出 3/4 的等值分數:\\nhttps://www.junyiacademy.org/article/2bee7037d19c4d20a89645de07e660e0\\n【基礎】擴分和等值分數 1:\\nhttps://www.junyiacademy.org/course-compare/math-elem/math-5/k-m5a_y112/k-m5a-c04_y112/e/menfs5ad\\n【基礎】擴分和等值分數 2:\\nhttps://www.junyiacademy.org/course-compare/math-elem/math-5/k-m5a_y112/k-m5a-c04_y112/e/menfs5aa\\n\\n### 4-2 約分:\\n\\n【觀念】認識約分:\\nhttps://www.junyiacademy.org/article/57bf652c90184e74bb6ed9f6e4873723\\n【解題】20/28 是七分之幾:\\nhttps://www.junyiacademy.org/article/a34d58378dd44de4901a0aaab6b28c9c\\n【基礎】約分和等值分數 1:\\nhttps://www.junyiacademy.org/course-compare/math-elem/math-5/k-m5a_y112/k-m5a-c04_y112/e/menfs5ab\\n\\n### 4-3 通分和分數的大小比較:\\n\\n【觀念】認識通分:\\nhttps://www.junyiacademy.org/article/a5e8bd4a3aa6442e926594d1be2b25f9\\n【解題】7/9 和 10/12 哪個比較大:\\nhttps://www.junyiacademy.org/article/6dbf186771a04b44b8ee824942bd1a1d\\n【解題】9/4 和 10/6 哪個比較大:\\nhttps://www.junyiacademy.org/article/20bd43e5e0a246d7a6e5440483cb4bef\\n【解題】比較異分母帶分數的大小:\\nhttps://www.junyiacademy.org/article/3cc773d0e2bb4d248f524877fc28ba5a\\n【基礎】通分和異分母分數的大小比較 1:\\nhttps://www.junyiacademy.org/course-compare/math-elem/math-5/k-m5a_y112/k-m5a-c04_y112/e/menfs5ac\\n【基礎】異分母分數的大小比較:\\nhttps://www.junyiacademy.org/course-compare/math-elem/math-5/k-m5a_y112/k-m5a-c04_y112/e/n-m5ach4-4a'),\n",
       " Document(metadata={'type': 'video', 'tags': ['video', '教學影片', '影片', '短片', 'clips', 'media', 'learning_resource', 'multimedia']}, page_content='# 康軒數學五年級上學期教學影片 education video\\n\\n第八單元 chapter 8 chapter eight\\n\\n## 【五上】第八單元 整數四則運算\\n\\n【前導】數學符號的由來:\\nhttps://www.junyiacademy.org/article/24287fd863924938b7347b4f571fc38d\\n\\n### 8-1 兩步驟連除問題:\\n\\n【觀念】連除兩數和除以兩數之積的結果相同:\\nhttps://www.junyiacademy.org/article/9972232d895f4440b55f1924a5ebde05\\n【例題】連續除法的計算順序變更 1（02:42）:\\nhttps://www.junyiacademy.org/course-compare/math-elem/math-5/k-m5a_y112/k-m5a-c08_y112/v/5SDR87mdt1I\\n【例題】連續除法的計算順序變更 2（01:42）:\\nhttps://www.junyiacademy.org/course-compare/math-elem/math-5/k-m5a_y112/k-m5a-c08_y112/v/YeRnMcm92fs\\n【基礎】連除的併式:\\nhttps://www.junyiacademy.org/course-compare/math-elem/math-5/k-m5a_y112/k-m5a-c08_y112/e/merys5ac\\n【基礎】連除計算規律:\\nhttps://www.junyiacademy.org/course-compare/math-elem/math-5/k-m5a_y112/k-m5a-c08_y112/e/merys5ag\\n\\n### 8-2 多步驟問題:\\n\\n【解題】三步驟計算：列式有三個運算符號（03:01）:\\nhttps://www.junyiacademy.org/course-compare/math-elem/math-5/k-m5a_y112/k-m5a-c08_y112/v/k4w1pfjkZT8\\n【解題】三步驟計算：列式有括號（04:21）:\\nhttps://www.junyiacademy.org/course-compare/math-elem/math-5/k-m5a_y112/k-m5a-c08_y112/v/xHbFJH211LE\\n【基礎】四則混合計算:\\nhttps://www.junyiacademy.org/course-compare/math-elem/math-5/k-m5a_y112/k-m5a-c08_y112/e/merys5ad\\n【基礎】多步驟的連加、連減、連乘與連除問題的併式:\\nhttps://www.junyiacademy.org/course-compare/math-elem/math-5/k-m5a_y112/k-m5a-c08_y112/e/n-m5ach7-2a\\n\\n### 8-3 分配律\\n\\n【解題】分配律：觀察 6 ×(4 + 3) 和 6 × 4 + 6 × 3 算出來的答案一樣嗎:\\nhttps://www.junyiacademy.org/article/5284f8cb911f42a8971d994407fbbf81\\n【解題】分配律：觀察 250 × 15 ﹣ 250 × 11 ＝ 250 × (15﹣11) 算出來的答案一樣嗎:\\nhttps://www.junyiacademy.org/article/63dbe963595d414aa10d09e339f717b0\\n【基礎】認識分配律 1:\\nhttps://www.junyiacademy.org/course-compare/math-elem/math-5/k-m5a_y112/k-m5a-c08_y112/e/n-m5ach7-3a\\n【基礎】運用分配律的計算練習:\\nhttps://www.junyiacademy.org/course-compare/math-elem/math-5/k-m5a_y112/k-m5a-c08_y112/e/merys5ak\\n\\n### 8-4 平均問題\\n\\n【解題】怎樣分可以使三個罐子裡的糖果一樣多:\\nhttps://www.junyiacademy.org/article/45e1e929b4494e5395afe86bc7a7bad6\\n【解題】三次英文測驗的平均分數是多少分:\\nhttps://www.junyiacademy.org/article/66be81a2d0c8491b9b8ab32e526ae872\\n【基礎】平均問題:\\nhttps://www.junyiacademy.org/course-compare/math-elem/math-5/k-m5a_y112/k-m5a-c08_y112/e/n-m6bch6-1a\\n'),\n",
       " Document(metadata={'type': 'video', 'tags': ['video', '教學影片', '影片', '短片', 'clips', 'media', 'learning_resource', 'multimedia']}, page_content='# 康軒數學五年級上學期教學影片 education video\\n第五單元 chapter 5 chapter five\\n### 5-3 三角形和四邊形的內角和\\n\\n【觀念】任意三角形三內角和等於 180 度的證明 1（05:07）:\\nhttps://www.junyiacademy.org/course-compare/math-elem/math-5/k-m5a_y112/k-m5a-c05_y112/v/kXBLY_q1Jic\\n【觀念】任意三角形三內角和等於 180 度的證明 2（02:17）:\\nhttps://www.junyiacademy.org/course-compare/math-elem/math-5/k-m5a_y112/k-m5a-c05_y112/v/6WVCd5cauU0\\n【解題】任意三角形內角計算的基本題型（02:21）:\\nhttps://www.junyiacademy.org/course-compare/math-elem/math-5/k-m5a_y112/k-m5a-c05_y112/v/l4l_8UGOdRs\\n【觀念】任意三角形三內角和等於 180 度的證明 3:\\nhttps://www.junyiacademy.org/article/8bdd32d30aff4be9a9e8b79dd6768d33\\n【觀念】等腰三角形的性質（02:31）:\\nhttps://www.junyiacademy.org/course-compare/math-elem/math-5/k-m5a_y112/k-m5a-c05_y112/v/BsGrJy6Z7sg\\n【解題】等腰三角形內角計算的基本題型（03:27）:\\nhttps://www.junyiacademy.org/course-compare/math-elem/math-5/k-m5a_y112/k-m5a-c05_y112/v/8s7F1zRa-wY\\n【解題】等腰三角形底角計算:\\nhttps://www.junyiacademy.org/article/f71a8973c29745489a01448f49b7da9e\\n【基礎】三角形的內角和:\\nhttps://www.junyiacademy.org/course-compare/math-elem/math-5/k-m5a_y112/k-m5a-c05_y112/e/mesfl5ab\\n【解題】平行四邊形兩雙對邊一樣長，兩雙對角一樣大:\\nhttps://www.junyiacademy.org/article/fa4f4cde5e994544abd1cb8bca83b990\\n【解題】將平行四邊形沿著一條對角線剪開:\\nhttps://www.junyiacademy.org/article/a0e356b6ce8e4571a3baa17d5c0593d8\\n【基礎】四邊形、五邊形的內角和:\\nhttps://www.junyiacademy.org/course-compare/math-elem/math-5/k-m5a_y112/k-m5a-c05_y112/e/mesfl5af'),\n",
       " Document(metadata={'type': 'video', 'tags': ['video', '教學影片', '影片', '短片', 'clips', 'media', 'learning_resource', 'multimedia']}, page_content='# 康軒數學五年級上學期教學影片 education video\\n第四單元 chapter 4 chapter four\\n### 4-4 用分數表示整數相除的結果:\\n\\n【解題】用除法算式紀錄，並用真分數表示除的結果 1:\\nhttps://www.junyiacademy.org/article/70c08df6679a44f4b7729cee14d0103f\\n【解題】用除法算式紀錄，並用真分數表示除的結果 2:\\nhttps://www.junyiacademy.org/article/0eb3f4a15066480b97d86536068c352e\\n【解題】用除法算式紀錄，並用真分數表示除的結果 3:\\nhttps://www.junyiacademy.org/article/a8dd9c69a2634cd08a6cec610bf95fac\\n【基礎】整數相除的結果是真分數:\\nhttps://www.junyiacademy.org/course-compare/math-elem/math-5/k-m5a_y112/k-m5a-c04_y112/e/menfs4da\\n【解題】用除法算式紀錄，並用帶分數表示除的結果 1:\\nhttps://www.junyiacademy.org/article/72fdc88881b54e339bc2e09b833d7799\\n【解題】用除法算式紀錄，並用帶分數表示除的結果 2:\\nhttps://www.junyiacademy.org/article/045d35e64dba45d79b63c87c58e7b238\\n【基礎】整數相除的結果是假分數或帶分數:\\nhttps://www.junyiacademy.org/course-compare/math-elem/math-5/k-m5a_y112/k-m5a-c04_y112/e/menfs4db\\n【基礎】整數相除分裝情境:\\nhttps://www.junyiacademy.org/course-compare/math-elem/math-5/k-m5a_y112/k-m5a-c04_y112/e/menfs4dc\\n【一般】整數相除的應用:\\nhttps://www.junyiacademy.org/course-compare/math-elem/math-5/k-m5a_y112/k-m5a-c04_y112/e/menfs4dd'),\n",
       " Document(metadata={'type': 'video', 'tags': ['video', '教學影片', '影片', '短片', 'clips', 'media', 'learning_resource', 'multimedia']}, page_content='# 康軒數學五年級上學期教學影片 education video\\n\\n第五單元 chapter 5 chapter five\\n\\n### 5-4 扇形與圓心角:\\n\\n【觀念】扇形的定義（02:47）:\\nhttps://www.junyiacademy.org/course-compare/math-elem/math-5/k-m5a_y112/k-m5a-c05_y112/v/6oCihKIQxhs\\n【觀念】扇形各部位的名稱（02:20）:\\nhttps://www.junyiacademy.org/course-compare/math-elem/math-5/k-m5a_y112/k-m5a-c05_y112/v/Td3lodPrI24\\n【基礎】認識扇形 1:\\nhttps://www.junyiacademy.org/course-compare/math-elem/math-5/k-m5a_y112/k-m5a-c05_y112/e/mesfl5ba\\n【觀念】圓心角的定義（01:17）:\\nhttps://www.junyiacademy.org/course-compare/math-elem/math-5/k-m5a_y112/k-m5a-c05_y112/v/EB2H9AcrGy4\\n【解題】求圓心角 1（01:01）:\\nhttps://www.junyiacademy.org/course-compare/math-elem/math-5/k-m5a_y112/k-m5a-c05_y112/v/iKBxk0nu4iY\\n【解題】求圓心角 2（01:31）:\\nhttps://www.junyiacademy.org/course-compare/math-elem/math-5/k-m5a_y112/k-m5a-c05_y112/v/pxpIfpS3DH8\\n【解題】1/2 圓的扇形圓心角:\\nhttps://www.junyiacademy.org/article/826ba0a9bc4a40b982929a43e5396aa5\\n【解題】1/4 圓的扇形的圓心角:\\nhttps://www.junyiacademy.org/article/78ae1dfb26c447c095e57d300a1979ca\\n【解題】1/8 圓的扇形的圓心角:\\nhttps://www.junyiacademy.org/article/e544e773e05f4b9199fb5db0d31bdeab\\n【基礎】認識圓心角:\\nhttps://www.junyiacademy.org/course-compare/math-elem/math-5/k-m5a_y112/k-m5a-c05_y112/e/mesfl5bb\\n【解題】圓心角 60° 的扇形是幾分之幾圓:\\nhttps://www.junyiacademy.org/article/a892c039b966491185862ae2be2b7355\\n【解題】畫出圓心角是 120° 的扇形:\\nhttps://www.junyiacademy.org/article/75804e9911be45718e44b4c2e518f2e3\\n【基礎】認識 1/2 圓、1/3 圓、1/4 圓、1/6 圓:\\nhttps://www.junyiacademy.org/course-compare/math-elem/math-5/k-m5a_y112/k-m5a-c05_y112/e/n-m5bch3-3a\\n【基礎】扇形的應用:\\nhttps://www.junyiacademy.org/course-compare/math-elem/math-5/k-m5a_y112/k-m5a-c05_y112/e/n-m5bch3-5a\\n'),\n",
       " Document(metadata={'type': 'video', 'tags': ['video', '教學影片', '影片', '短片', 'clips', 'media', 'learning_resource', 'multimedia']}, page_content='# 康軒數學五年級上學期教學影片 education video\\n\\n第五單元 chapter 5 chapter five\\n\\n## 【五上】第五單元 多邊形與扇形\\n\\n### 5-1 多邊形\\n\\n【基礎】多邊形:\\nhttps://www.junyiacademy.org/course-compare/math-elem/math-5/k-m5a_y112/k-m5a-c05_y112/e/mesfl5ac\\n【基礎】正多邊形:\\nhttps://www.junyiacademy.org/course-compare/math-elem/math-5/k-m5a_y112/k-m5a-c05_y112/e/mesfl5ad\\n\\n### 5-2 三角形的邊長關係\\n\\n【觀念】三角形三條邊的性質（06:36）:\\nhttps://www.junyiacademy.org/course-compare/math-elem/math-5/k-m5a_y112/k-m5a-c05_y112/v/5_wrD3jN0wk\\n【觀念】快速檢查三條邊是否能組合成三角形（03:45）:\\nhttps://www.junyiacademy.org/course-compare/math-elem/math-5/k-m5a_y112/k-m5a-c05_y112/v/deJUrfG39hA\\n【解題】三角形任意兩邊和必定大於第三邊練習題 1（03:02）:\\nhttps://www.junyiacademy.org/course-compare/math-elem/math-5/k-m5a_y112/k-m5a-c05_y112/v/xf8xNhzStgE\\n【解題】三角形任意兩邊和必定大於第三邊練習題 2（04:31）:\\nhttps://www.junyiacademy.org/course-compare/math-elem/math-5/k-m5a_y112/k-m5a-c05_y112/v/kUayGW3-298\\n【解題】三角形任意兩邊和必定大於第三邊練習題 3（05:01）:\\nhttps://www.junyiacademy.org/course-compare/math-elem/math-5/k-m5a_y112/k-m5a-c05_y112/v/O41-F7kSnXI\\n【基礎】三角形邊長的規則:\\nhttps://www.junyiacademy.org/course-compare/math-elem/math-5/k-m5a_y112/k-m5a-c05_y112/e/mesfl5aa\\n'),\n",
       " Document(metadata={'type': 'video', 'tags': ['video', '教學影片', '影片', '短片', 'clips', 'media', 'learning_resource', 'multimedia']}, page_content='# 康軒數學五年級上學期教學影片 education video\\n\\n第九單元 chapter 9 chapter nine\\n\\n## 【五上】第九單元 面積\\n\\n【前導 】土地面積:\\nhttps://www.junyiacademy.org/article/b7166b23f3cf449d9b7da2f44a1f6ef1\\n\\n### 9-1 平行四邊形的面積:\\n\\n【解題】哪一種剪法可以將平行四邊形剪開拼成一個長方形:\\nhttps://www.junyiacademy.org/article/262ca747b4ea4c51aa7762b4ef4956f1\\n【觀念】平行四邊形的面積＝底 × 高:\\nhttps://www.junyiacademy.org/article/11b93b1b21ed4ff19f0dc1e8c83ff974\\n【基礎】面積的變化:\\nhttps://www.junyiacademy.org/course-compare/math-elem/math-5/k-m5a_y112/k-m5a-c09_y112/e/n-m5ach8-4a\\n【基礎】平行四邊形的面積 2:\\nhttps://www.junyiacademy.org/course-compare/math-elem/math-5/k-m5a_y112/k-m5a-c09_y112/e/mesfl5cc\\n\\n### 9-2 三角形的面積:\\n\\n【解題】利用平方公分板求出三角形的面積:\\nhttps://www.junyiacademy.org/article/62e1a34af2704e1d87488f5309aa9a3f\\n【解題】三角形的高不變，底邊長變為原來的 2 倍、3 倍時，面積分別會變為原來的幾倍\\nhttps://www.junyiacademy.org/article/e190c2fb89e04f06953005933b831c7c\\n【解題】三角形底邊長不變，高變為原來的 2 倍、3 倍時，面積分別會變為原來的幾倍\\nhttps://www.junyiacademy.org/article/bd7610eb824248e598eadfccf870d727\\n【基礎】三角形的面積 2\\nhttps://www.junyiacademy.org/course-compare/math-elem/math-5/k-m5a_y112/k-m5a-c09_y112/e/mesfl5cg\\n【一般】三角形面積的應用 1\\nhttps://www.junyiacademy.org/course-compare/math-elem/math-5/k-m5a_y112/k-m5a-c09_y112/e/mesfl5ca\\n\\n### 9-3 梯形的面積:\\n\\n【觀念】利用切割、拼湊等方法求出梯形的面積\\nhttps://www.junyiacademy.org/article/c9c95e5d6fa1483da3ad014145b99692\\n【連續解題 1】將兩個全等的梯形拼成一個平行四邊形，求此平行四邊形的面積\\nhttps://www.junyiacademy.org/article/3ef9f77eadda490b935f9ecdabec1a1d\\n【連續解題 2】求一個梯形的面積\\nhttps://www.junyiacademy.org/article/53fd8547450b420caeee3e0e22a43888\\n【觀念】梯形的面積 ＝（上底＋下底）× 高\\nhttps://www.junyiacademy.org/article/c8dfa831b0f04d70bd77b849ccd17c3c\\n【基礎】梯形的面積 1\\n')]"
      ]
     },
     "execution_count": 44,
     "metadata": {},
     "output_type": "execute_result"
    }
   ],
   "source": [
    "# Load video file\n",
    "video_file_path = os.path.join(cwd,'..', 'data_processing', 'processed_data','videos')\n",
    "\n",
    "metadata = {\n",
    "    \"type\" : \"video\",\n",
    "    \"tags\" : [\"video\",  \"教學影片\", \"影片\", \"短片\", \"clips\", \"media\", \"learning_resource\", \"multimedia\"]\n",
    "}\n",
    "load_doc_dir(video_file_path, metadata)"
   ]
  },
  {
   "cell_type": "code",
   "execution_count": 45,
   "metadata": {},
   "outputs": [],
   "source": [
    "# Write all chunks into files to see if they are semantically separated\n",
    "new_directory = os.path.join(cwd, 'chunks')\n",
    "os.makedirs(new_directory, exist_ok=True)\n",
    "for i, text in enumerate(text_docs):\n",
    "    file_path = os.path.join(new_directory, f'chunk{i}.md')\n",
    "    with open(file_path, 'w', encoding='utf-8') as file:\n",
    "        file.write(text.page_content)"
   ]
  },
  {
   "cell_type": "markdown",
   "metadata": {},
   "source": [
    "## Part 2: Convert Text Chunks into Embeddings"
   ]
  },
  {
   "cell_type": "code",
   "execution_count": 46,
   "metadata": {},
   "outputs": [],
   "source": [
    "COHERE_KEY = os.getenv(\"COHERE_KEY\")\n",
    "vector_path = os.path.join(cwd, 'vector-stores', 'vid_and_json_vs')\n",
    "\n",
    "embeddings = CohereEmbeddings(cohere_api_key=COHERE_KEY, model=\"embed-multilingual-v3.0\")\n",
    "\n",
    "# Initialize FAISS (Facebook AI Similarity Search) vector store, converting raw text chunks into embeddings\n",
    "faiss_store = FAISS.from_documents(text_docs, embeddings)\n",
    "# Define the save path and the name for the vector store\n",
    "os.makedirs(vector_path, exist_ok=True)\n",
    "\n",
    "# Save FAISS vector store to disk with a name\n",
    "faiss_store.save_local(vector_path)"
   ]
  },
  {
   "cell_type": "markdown",
   "metadata": {},
   "source": [
    "# Part 3: Testing"
   ]
  },
  {
   "cell_type": "code",
   "execution_count": 47,
   "metadata": {},
   "outputs": [],
   "source": [
    "# Test Retrieval Behavior\n",
    "from tests.test_retriever import * \n",
    "embedding_path = os.path.join(cwd, 'vector-stores', 'vid_and_json_vs')\n",
    "faiss_store = FAISS.load_local(\n",
    "    embedding_path, embeddings, allow_dangerous_deserialization=True\n",
    ")\n",
    "retriever = faiss_store.as_retriever(search_kwargs={\"k\": 5})\n",
    "retrieved_path = os.path.join(cwd, 'retrieved_docs')\n",
    "\n",
    "test_retrieve_semester_summary = [\n",
    "    {\"query\":\"生成十六週的學期進度，包含每週每堂課需要涵蓋的內容\",\n",
    "     \"expected_tag0\": \"整學期\"},\n",
    "    {\"query\":\"建立學期計畫\",\n",
    "     \"expected_tag0\": \"整學期\"},\n",
    "    {\"query\":\"幫我出這學期的進度\",\n",
    "     \"expected_tag0\": \"整學期\"},\n",
    "    {\"query\":\"Give me a semester plan that convers all the course material in 16 weeks\",\n",
    "     \"expected_tag0\": \"整學期\"},\n",
    "    {\"query\":\"草擬學期計畫\",\n",
    "     \"expected_tag0\": \"整學期\"},\n",
    "    {\"query\":\"給我課程大綱\",\n",
    "     \"expected_tag0\": \"整學期\"}\n",
    "    ]\n",
    "\n",
    "test_retrieve_individual_chapter_learning_objective = [\n",
    "    {\"query\":\"第一單元有什麼學習重點？\",\n",
    "     \"expected_tag0\": \"第1單元\"},\n",
    "    {\"query\":\"列出第四章學習重點\",\n",
    "     \"expected_tag0\": \"第4單元\"},\n",
    "    {\"query\":\"幫我找第六課的相關影片\",\n",
    "     \"expected_tag0\": \"第6單元\"},\n",
    "    {\"query\":\"幫我出第十單元的題目\",\n",
    "     \"expected_tag0\": \"第10單元\"},\n",
    "    {\"query\":\"What are some key takeaway in chapter three?\",\n",
    "     \"expected_tag0\": \"第3單元\"},\n",
    "    {\"query\":\"List out key learning points of chapter 9\",\n",
    "     \"expected_tag0\": \"第9單元\"},\n",
    "    {\"query\":\"列出第二章的活動內容\",\n",
    "     \"expected_tag0\": \"第2單元\"},\n",
    "]\n",
    "\n",
    "test_cases = [\n",
    "    *test_retrieve_semester_summary,\n",
    "    *test_retrieve_individual_chapter_learning_objective\n",
    "    ]\n",
    "\n",
    "# for i, test in enumerate(test_cases):\n",
    "#     query = test[\"query\"]\n",
    "#     expected = test[\"expected_tag0\"]\n",
    "#     docs = test_retriever(retriever, query, retrieved_path, print_docs=False, save_docs=False)\n",
    "#     print(f\"Test {i}: {query}\")\n",
    "#     success = False\n",
    "#     for j, doc in enumerate(docs[:2]):\n",
    "#         if expected in doc.page_content[:40]:\n",
    "#             print(f\"✅ Success: detected tag {expected} at doc number {j}\")\n",
    "#             print(doc.page_content[:40])\n",
    "#             success = True\n",
    "#             break\n",
    "#         else:\n",
    "#             print(f\"Fail: expected {expected} but the retrieved doc is {doc.page_content[:40]}...\" )\n",
    "#     if not success:\n",
    "#         print(f\"❌ Fail: query = {query}; expected = {expected}\")\n",
    "\n"
   ]
  },
  {
   "cell_type": "code",
   "execution_count": 50,
   "metadata": {},
   "outputs": [
    {
     "name": "stdout",
     "output_type": "stream",
     "text": [
      "# 康軒數學五年級上學期教學影片 education video\n",
      "第二單元 ch....\n",
      "===================\n",
      "[{'tags': ['第2單元', 'chapter2', '第二單元', '....\n",
      "===================\n",
      "# 康軒數學五年級上學期教學影片 education video\n",
      "\n",
      "第二單元 c....\n",
      "===================\n",
      "[{'tags': ['第1單元', 'chapter1', '第一單元', '....\n",
      "===================\n",
      "[{'tags': ['第4單元', 'chapter4', '第四單元', '....\n",
      "===================\n",
      "Elapsed time: 0.63 seconds\n"
     ]
    }
   ],
   "source": [
    "# Test video retrieval\n",
    "query = \"尋找第二單元每個章節的教學影片\"\n",
    "docs = test_retriever(retriever, query, retrieved_path, print_docs=True, save_docs=False)"
   ]
  },
  {
   "cell_type": "code",
   "execution_count": 49,
   "metadata": {},
   "outputs": [
    {
     "name": "stdout",
     "output_type": "stream",
     "text": [
      "[{'tags': ['整學期', '全部內容', '學期計畫', '教學進度'....\n",
      "===================\n",
      "[{'tags': ['第1單元', 'chapter1', '第一單元', '....\n",
      "===================\n",
      "[{'tags': ['第4單元', 'chapter4', '第四單元', '....\n",
      "===================\n",
      "[{'tags': ['第2單元', 'chapter2', '第二單元', '....\n",
      "===================\n",
      "[{'tags': ['第6單元', 'chapter6', '第六單元', '....\n",
      "===================\n",
      "Elapsed time: 0.50 seconds\n"
     ]
    }
   ],
   "source": [
    "# Test specific query\n",
    "query = \"給我課程大綱\"\n",
    "docs = test_retriever(retriever, query, retrieved_path, print_docs=True, save_docs=False)"
   ]
  }
 ],
 "metadata": {
  "kernelspec": {
   "display_name": "ibm_cfc",
   "language": "python",
   "name": "python3"
  },
  "language_info": {
   "codemirror_mode": {
    "name": "ipython",
    "version": 3
   },
   "file_extension": ".py",
   "mimetype": "text/x-python",
   "name": "python",
   "nbconvert_exporter": "python",
   "pygments_lexer": "ipython3",
   "version": "3.11.9"
  }
 },
 "nbformat": 4,
 "nbformat_minor": 2
}
