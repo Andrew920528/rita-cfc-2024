{
 "cells": [
  {
   "cell_type": "markdown",
   "metadata": {},
   "source": [
    "# RAG Pipeline\n",
    "This file splits and stores each document into vector embeddings."
   ]
  },
  {
   "cell_type": "code",
   "execution_count": 50,
   "metadata": {},
   "outputs": [],
   "source": [
    "# import packages\n",
    "from dotenv import load_dotenv\n",
    "import os\n",
    "from langchain.text_splitter import RecursiveCharacterTextSplitter\n",
    "from langchain.vectorstores import FAISS\n",
    "from langchain_cohere import CohereEmbeddings\n",
    "from langchain_community.document_loaders import JSONLoader"
   ]
  },
  {
   "cell_type": "code",
   "execution_count": 51,
   "metadata": {},
   "outputs": [],
   "source": [
    "# Path parameters and environment variables\n",
    "cwd = os.getcwd()\n",
    "env_path = os.path.join(os.path.dirname(cwd), '.env')\n",
    "load_dotenv(dotenv_path=env_path)\n",
    "\n",
    "# Modify the path parameters as needed\n",
    "text_docs = []\n"
   ]
  },
  {
   "cell_type": "markdown",
   "metadata": {},
   "source": [
    "## Part 1: Text Splitting"
   ]
  },
  {
   "cell_type": "code",
   "execution_count": 52,
   "metadata": {},
   "outputs": [],
   "source": [
    "# Splitter paramters\n",
    "separators = ['#','##','###']\n",
    "chunk_size = 1000\n",
    "chunk_overlap = 0 # we are splitting by tags so there shouldn't be tokens that got cut\n",
    "textbook_extracted_path = os.path.join(cwd,'..', 'data_processing', 'processed_data','kang_math_textbook_edited.md')\n"
   ]
  },
  {
   "cell_type": "code",
   "execution_count": 59,
   "metadata": {},
   "outputs": [],
   "source": [
    "# Load the organized textbook data\n",
    "with open(textbook_extracted_path, \"r\", encoding=\"utf-8\") as file:\n",
    "    extracted_text = file.read()   \n",
    "# Create a RecursiveCharacterTextSplitter object to split the text into chunks\n",
    "text_splitter = RecursiveCharacterTextSplitter(\n",
    "    separators=separators,\n",
    "    chunk_size=chunk_size,       # Maximum number of characters in each chunk\n",
    "    chunk_overlap=chunk_overlap,     # Number of characters that overlap between consecutive chunks\n",
    "    length_function=len,    # Function to measure the length of chunks\n",
    ")\n",
    "\n",
    "text_docs.extend(text_splitter.create_documents([extracted_text]))\n"
   ]
  },
  {
   "cell_type": "code",
   "execution_count": 60,
   "metadata": {},
   "outputs": [],
   "source": [
    "# Load json course plan\n",
    "dir_path = os.path.join(cwd,'..', 'data_processing', 'processed_data','course_plan')\n",
    "documents = []\n",
    "\n",
    "# Loop through each chapter file (1 to 10)\n",
    "for filename in os.listdir(dir_path):\n",
    "    # Load each JSON file\n",
    "    loader = JSONLoader(file_path=os.path.join(dir_path, filename), jq_schema=\".\", text_content=False)\n",
    "    data = loader.load()\n",
    "    # Append loaded documents to the list\n",
    "    documents.extend(data)\n",
    "\n",
    "text_docs.extend(documents)\n"
   ]
  },
  {
   "cell_type": "code",
   "execution_count": 55,
   "metadata": {},
   "outputs": [],
   "source": [
    "# Write all chunks into files to see if they are semantically separated\n",
    "new_directory = os.path.join(cwd, 'chunks')\n",
    "os.makedirs(new_directory, exist_ok=True)\n",
    "for i, text in enumerate(text_docs):\n",
    "    file_path = os.path.join(new_directory, f'chunk{i}.md')\n",
    "    with open(file_path, 'w', encoding='utf-8') as file:\n",
    "        file.write(text.page_content)"
   ]
  },
  {
   "cell_type": "markdown",
   "metadata": {},
   "source": [
    "## Part 2: Convert Text Chunks into Embeddings"
   ]
  },
  {
   "cell_type": "code",
   "execution_count": 56,
   "metadata": {},
   "outputs": [],
   "source": [
    "COHERE_KEY = os.getenv(\"COHERE_KEY\")\n",
    "vector_path = os.path.join(cwd, 'vector-stores', 'test_vector_store')\n",
    "\n",
    "embeddings = CohereEmbeddings(cohere_api_key=COHERE_KEY, model=\"embed-multilingual-v3.0\")\n",
    "\n",
    "# Initialize FAISS (Facebook AI Similarity Search) vector store, converting raw text chunks into embeddings\n",
    "faiss_store = FAISS.from_documents(text_docs, embeddings)\n",
    "# Define the save path and the name for the vector store\n",
    "os.makedirs(vector_path, exist_ok=True)\n",
    "\n",
    "# Save FAISS vector store to disk with a name\n",
    "faiss_store.save_local(vector_path)"
   ]
  },
  {
   "cell_type": "code",
   "execution_count": 57,
   "metadata": {},
   "outputs": [
    {
     "name": "stdout",
     "output_type": "stream",
     "text": [
      "Elapsed time: 0.23 seconds\n"
     ]
    }
   ],
   "source": [
    "# Test Retrieval Behavior\n",
    "from tests.test_retriever import * \n",
    "retriever = faiss_store.as_retriever(search_kwargs={\"k\": 5})\n",
    "query = \"生成十六週的學期進度，包含每週每堂課需要涵蓋的內容\"\n",
    "retrieved_path = os.path.join(cwd, 'retrieved_docs')\n",
    "docs = test_retriever(retriever, query, retrieved_path, print_docs=False)"
   ]
  }
 ],
 "metadata": {
  "kernelspec": {
   "display_name": "ibm_cfc",
   "language": "python",
   "name": "python3"
  },
  "language_info": {
   "codemirror_mode": {
    "name": "ipython",
    "version": 3
   },
   "file_extension": ".py",
   "mimetype": "text/x-python",
   "name": "python",
   "nbconvert_exporter": "python",
   "pygments_lexer": "ipython3",
   "version": "3.11.9"
  }
 },
 "nbformat": 4,
 "nbformat_minor": 2
}
