{
 "cells": [
  {
   "cell_type": "markdown",
   "metadata": {},
   "source": [
    "# RAG Pipeline\n",
    "This file splits up processed data into chunks and store them into vector store as embeddings.\n",
    "- Modify path for different data. \n",
    "- Modify splitter parameters to split documents semantically.\n",
    "- Change different embedding model to test the correctness of retrieved document."
   ]
  },
  {
   "cell_type": "code",
   "execution_count": 2,
   "metadata": {},
   "outputs": [],
   "source": [
    "# import packages\n",
    "from dotenv import load_dotenv\n",
    "import os\n",
    "import getpass\n",
    "from langchain.text_splitter import RecursiveCharacterTextSplitter\n",
    "from langchain_huggingface import HuggingFaceEmbeddings\n",
    "from langchain.vectorstores import FAISS\n",
    "from langchain_cohere import CohereEmbeddings"
   ]
  },
  {
   "cell_type": "code",
   "execution_count": 3,
   "metadata": {},
   "outputs": [],
   "source": [
    "# Path parameters and environment variables\n",
    "cwd = os.getcwd()\n",
    "env_path = os.path.join(os.path.dirname(cwd), '.env')\n",
    "load_dotenv(dotenv_path=env_path)\n",
    "\n",
    "# NOTE: Modify the path parameters as needed\n",
    "textbook_extracted_path = os.path.join(cwd,'..', 'data_processing', 'processed_data','kang_math_textbook_edited.md')\n",
    "vector_path = os.path.join(cwd, 'vector-stores', 'test_vector_store')\n"
   ]
  },
  {
   "cell_type": "markdown",
   "metadata": {},
   "source": [
    "## Part 1: Text Splitting"
   ]
  },
  {
   "cell_type": "code",
   "execution_count": 4,
   "metadata": {},
   "outputs": [],
   "source": [
    "# NOTE: Splitter paramters\n",
    "separators = ['#','##','###']\n",
    "chunk_size = 1000\n",
    "chunk_overlap = 200"
   ]
  },
  {
   "cell_type": "code",
   "execution_count": 5,
   "metadata": {},
   "outputs": [],
   "source": [
    "# Load the organized textbook data\n",
    "with open(textbook_extracted_path, \"r\", encoding=\"utf-8\") as file:\n",
    "    extracted_text = file.read()    "
   ]
  },
  {
   "cell_type": "code",
   "execution_count": 6,
   "metadata": {},
   "outputs": [],
   "source": [
    "# Create a RecursiveCharacterTextSplitter object to split the text into chunks\n",
    "text_splitter = RecursiveCharacterTextSplitter(\n",
    "    separators=separators,\n",
    "    chunk_size=chunk_size,       # Maximum number of characters in each chunk\n",
    "    chunk_overlap=chunk_overlap,     # Number of characters that overlap between consecutive chunks\n",
    "    length_function=len,    # Function to measure the length of chunks\n",
    ")\n",
    "\n",
    "texts = text_splitter.split_text(extracted_text)"
   ]
  },
  {
   "cell_type": "code",
   "execution_count": 7,
   "metadata": {},
   "outputs": [],
   "source": [
    "# Write all chunks into files to see if they are semantically separated\n",
    "new_directory = os.path.join(cwd, 'chunks')\n",
    "os.makedirs(new_directory, exist_ok=True)\n",
    "for i, text in enumerate(texts):\n",
    "    file_path = os.path.join(new_directory, f'chunk{i}.md')\n",
    "    with open(file_path, 'w') as file:\n",
    "        file.write(text)"
   ]
  },
  {
   "cell_type": "markdown",
   "metadata": {},
   "source": [
    "## Part 2: Convert Text Chunks into Embeddings"
   ]
  },
  {
   "cell_type": "code",
   "execution_count": 8,
   "metadata": {},
   "outputs": [],
   "source": [
    "COHERE_KEY = os.getenv(\"COHERE_KEY\")\n",
    "\n",
    "# NOTE: Change the model as needed\n",
    "# embeddings = HuggingFaceEmbeddings(model_name=\"sentence-transformers/paraphrase-multilingual-MiniLM-L12-v2\")\n",
    "embeddings = CohereEmbeddings(cohere_api_key=COHERE_KEY)\n",
    "\n",
    "# Initialize FAISS (Facebook AI Similarity Search) vector store, converting raw text chunks into embeddings\n",
    "faiss_store = FAISS.from_texts(texts, embeddings)\n",
    "\n",
    "# Define the save path and the name for the vector store\n",
    "os.makedirs(vector_path, exist_ok=True)\n",
    "\n",
    "# Save FAISS vector store to disk with a name\n",
    "faiss_store.save_local(vector_path)"
   ]
  },
  {
   "cell_type": "code",
   "execution_count": 17,
   "metadata": {},
   "outputs": [
    {
     "name": "stdout",
     "output_type": "stream",
     "text": [
      "# 多位小數與加減\n",
      "\n",
      "- 多位小數的大小比較\n",
      "- 多位小數的加法直式計算\n",
      "- 多位小數的加減\n",
      "- 多位小數的減法直式計算\n",
      "- 小數取概數\n",
      "- 小數取概數並估算\n",
      "---\n",
      "# 第一單元 多位小數與加減\n",
      "\n",
      "....\n",
      "===================\n",
      "# 第一單元 多位小數與加減\n",
      "\n",
      "|教材地位|教學指導計畫|總節數 7 節|\n",
      "|---|---|---|\n",
      "|以前學過的|現在要學的|未來要學的|\n",
      "|第六冊第五單元| | |\n",
      "|• 認識一位小數以及「十分....\n",
      "===================\n",
      "# 活動二 小數的大小比較\n",
      "\n",
      "目標 3-1 能做多位小數的大小比較。\n",
      "\n",
      "# 活動三 多位小數的加減\n",
      "\n",
      "目標 4-1 能解決生活情境中多位小數的加法問題。\n",
      "4-2 能解決生活情境中多位小數的減法問題。\n",
      "....\n",
      "===================\n",
      "# 第二單元 因數與公因數\n",
      "\n",
      "數學素養學習單 配合5上第一單元 多位小數與加減 年 班 號 2\n",
      "\n",
      "匯率達人匯率達人 檔案提供於電子書及題庫中究了匯率以後 發現如果要把臺幣換成美金的話 要看銀行賣出的匯....\n",
      "===================\n",
      "Elapsed time: 0.45 seconds\n"
     ]
    }
   ],
   "source": [
    "# Test Retrieval Behavior\n",
    "from tests.test_retriever import * \n",
    "query = \"\"\"\n",
    "小數加減\n",
    "\"\"\"\n",
    "\n",
    "\n",
    "retrieved_path = os.path.join(cwd, 'retrieved_docs')\n",
    "test_retriever(vector_path, embeddings, query, retrieved_path)"
   ]
  }
 ],
 "metadata": {
  "kernelspec": {
   "display_name": "ibm_cfc",
   "language": "python",
   "name": "python3"
  },
  "language_info": {
   "codemirror_mode": {
    "name": "ipython",
    "version": 3
   },
   "file_extension": ".py",
   "mimetype": "text/x-python",
   "name": "python",
   "nbconvert_exporter": "python",
   "pygments_lexer": "ipython3",
   "version": "3.11.9"
  }
 },
 "nbformat": 4,
 "nbformat_minor": 2
}
