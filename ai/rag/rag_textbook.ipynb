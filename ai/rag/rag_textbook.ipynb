{
 "cells": [
  {
   "cell_type": "markdown",
   "metadata": {},
   "source": [
    "Splits documents, tokenizes as embeddings, and stores them in a vector store"
   ]
  },
  {
   "cell_type": "code",
   "execution_count": null,
   "metadata": {},
   "outputs": [],
   "source": [
    "# import packages\n",
    "from dotenv import load_dotenv\n",
    "import os\n",
    "import getpass\n",
    "from langchain.text_splitter import RecursiveCharacterTextSplitter\n",
    "from langchain_huggingface import HuggingFaceEmbeddings\n",
    "from langchain.chains import RetrievalQA\n",
    "from langchain_ibm import WatsonxLLM\n",
    "from langchain.vectorstores import FAISS\n",
    "from langchain_cohere import CohereEmbeddings\n",
    "from ibm_watsonx_ai.metanames import GenTextParamsMetaNames as GenParams\n",
    "from ibm_watsonx_ai.foundation_models.utils.enums import ModelTypes, DecodingMethods\n",
    "from ibm_watsonx_ai import Credentials\n",
    "\n",
    "root_path = os.getcwd()\n",
    "root_path = os.path.dirname(os.path.dirname(os.path.dirname(root_path)))\n",
    "textbook_extracted_path = os.path.join(root_path,'ai','rag','documents','kang_math_textbook_edited.md')\n",
    "vector_path = os.path.join(root_path, 'ai', 'rag', 'vector-stores')"
   ]
  },
  {
   "cell_type": "code",
   "execution_count": null,
   "metadata": {},
   "outputs": [],
   "source": [
    "# Load the organized textbook data\n",
    "## CHANGE FILE HERE FOR EMBEDS\n",
    "with open(textbook_extracted_path, \"r\", encoding=\"utf-8\") as file:\n",
    "    extracted_text = file.read()    "
   ]
  },
  {
   "cell_type": "code",
   "execution_count": null,
   "metadata": {},
   "outputs": [],
   "source": [
    "# Create a RecursiveCharacterTextSplitter object to split the text into chunks\n",
    "\n",
    "text_splitter = RecursiveCharacterTextSplitter(\n",
    "    separators=['#','##','###'],\n",
    "    chunk_size=1000,       # Maximum number of characters in each chunk\n",
    "    chunk_overlap=200,     # Number of characters that overlap between consecutive chunks\n",
    "    length_function=len,    # Function to measure the length of chunks\n",
    ")\n",
    "\n",
    "texts = text_splitter.split_text(extracted_text)"
   ]
  },
  {
   "cell_type": "code",
   "execution_count": null,
   "metadata": {},
   "outputs": [],
   "source": [
    "texts"
   ]
  },
  {
   "cell_type": "code",
   "execution_count": null,
   "metadata": {},
   "outputs": [],
   "source": [
    "# Convert Text Chunks into Embeddings (dense vector representation of the text that capture semantic information)\n",
    "\n",
    "# Initialize the embedding model using Model on HuggingFace\n",
    "embedding_model = HuggingFaceEmbeddings(model_name=\"sentence-transformers/paraphrase-multilingual-MiniLM-L12-v2\")\n",
    "embeddings = CohereEmbeddings(cohere_api_key=\"dBKmEAHnk6iFoBI26VsZGYR56lJ638CmzZcOUJeg\")\n",
    "\n",
    "# Initialize FAISS (Facebook AI Similarity Search) vector store, converting raw text chunks into embeddings\n",
    "faiss_store = FAISS.from_texts(texts, embeddings)\n",
    "\n",
    "# save_path = r'C:\\Users\\ediso\\OneDrive\\Desktop\\IBM Call for Code\\rita-cfc-2024\\ai\\course-prep\\RAG\\vector-stores'\n",
    "\n",
    "# TODO relative path\n",
    "# Define the save path and the name for the vector store\n",
    "save_path = vector_path\n",
    "vector_store_name = 'test_vector_store'\n",
    "\n",
    "full_save_path = os.path.join(save_path, vector_store_name)\n",
    "os.makedirs(full_save_path, exist_ok=True)\n",
    "\n",
    "# Save FAISS vector store to disk with a name\n",
    "faiss_store.save_local(full_save_path)"
   ]
  },
  {
   "cell_type": "code",
   "execution_count": null,
   "metadata": {},
   "outputs": [],
   "source": []
  }
 ],
 "metadata": {
  "kernelspec": {
   "display_name": "ibm_cfc",
   "language": "python",
   "name": "python3"
  },
  "language_info": {
   "codemirror_mode": {
    "name": "ipython",
    "version": 3
   },
   "file_extension": ".py",
   "mimetype": "text/x-python",
   "name": "python",
   "nbconvert_exporter": "python",
   "pygments_lexer": "ipython3",
   "version": "3.11.9"
  }
 },
 "nbformat": 4,
 "nbformat_minor": 2
}
