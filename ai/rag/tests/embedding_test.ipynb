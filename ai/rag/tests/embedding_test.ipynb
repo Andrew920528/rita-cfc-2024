{
 "cells": [
  {
   "cell_type": "code",
   "execution_count": 18,
   "metadata": {},
   "outputs": [],
   "source": [
    "import os\n",
    "from langchain_huggingface import HuggingFaceEmbeddings\n",
    "\n",
    "from langchain_cohere import CohereEmbeddings\n",
    "from dotenv import load_dotenv\n",
    "cwd = os.getcwd()\n",
    "embedding_path = os.path.join(cwd,'..', 'vector-stores', 'test_vector_store')\n",
    "\n",
    "env_path = os.path.join(os.path.dirname(os.path.dirname(cwd)), '.env')\n",
    "load_dotenv(dotenv_path=env_path)\n",
    "COHERE_KEY = os.getenv(\"COHERE_KEY\")\n",
    "# embedding_model = HuggingFaceEmbeddings(\n",
    "#     model_name=\"sentence-transformers/paraphrase-multilingual-MiniLM-L12-v2\"\n",
    "# )\n",
    "embedding_model = CohereEmbeddings(cohere_api_key=COHERE_KEY)\n"
   ]
  },
  {
   "cell_type": "code",
   "execution_count": 19,
   "metadata": {},
   "outputs": [],
   "source": [
    "from langchain_community.vectorstores import FAISS\n",
    "\n",
    "# Load FAISS store from disk\n",
    "faiss_store = FAISS.load_local(\n",
    "    embedding_path, embedding_model, allow_dangerous_deserialization=True\n",
    ")"
   ]
  },
  {
   "cell_type": "code",
   "execution_count": 20,
   "metadata": {},
   "outputs": [],
   "source": [
    "retriever = faiss_store.as_retriever()"
   ]
  },
  {
   "cell_type": "code",
   "execution_count": 21,
   "metadata": {},
   "outputs": [],
   "source": [
    "docs = retriever.invoke(\"第一單元\")"
   ]
  },
  {
   "cell_type": "code",
   "execution_count": 22,
   "metadata": {},
   "outputs": [
    {
     "data": {
      "text/plain": [
       "'# 第一單元 多位小數與加減\\n\\n|教材地位|教學指導計畫|總節數 7 節|\\n|---|---|---|\\n|以前學過的|現在要學的|未來要學的|\\n|第六冊第五單元| | |\\n|• 認識一位小數以及「十分位」的位名和位值 並進行位值單位的換算|• 認識多位小數|第十冊第四單元|\\n|• 比較一位小數的大小|• 認識多位小數的位值並做化聚| |\\n|• 能用直式計算 解決一位小數的加減問題| | |\\n|第七冊第九單元| | |\\n|• 認識二位小數以及「百分位」的位名和位值 並進行位值單位的換算|第十冊第六單元| |\\n|• 比較二位小數的大小|捨五入法對小數取概數| |\\n|• 能用直式計算 解決二位小數的加減問題| | |\\n\\n|活動名稱|教學節數|頁碼|活動目標|\\n|---|---|---|---|\\n|開門活動 邁思開車記|5|一、二位小數的報讀。|透過全臺灣最高加油站的情境複習|\\n|活動1 認識多位小數|1節|8、9|在具體情境中認識多位小數。|\\n|活動2 多位小數的大小比較|1節|10|能做多位小數的大小比較。|\\n|活動3 多位小數的加減|1節|12|能解決生活情境中多位小數的減法問題。|\\n|活動4 小數取概數|1節|13、14|能用四捨五入的方法對小數在指定位數取概數。|\\n|練習百分百|1節|15、16|複習各活動學習目標。|\\n\\n# 知識脈絡\\n\\n- 認識三位以上的小數\\n- 認識多位小數\\n- 多位小數的位值和位名\\n- 能正確寫出多位小數(含帶小數)來描述具體的量。\\n- 能解決生活情境中三、四位小數的加法和減法問題。\\n- 知道多位小數的位名與位值。\\n- 能用四捨五入法對小數取概數。\\n- 能比較多位小數的大小。\\n\\n# 多位小數與加減\\n\\n- 多位小數的大小比較\\n- 多位小數的加法直式計算\\n- 多位小數的加減\\n- 多位小數的減法直式計算\\n- 小數取概數\\n- 小數取概數並估算\\n---'"
      ]
     },
     "execution_count": 22,
     "metadata": {},
     "output_type": "execute_result"
    }
   ],
   "source": [
    "docs[0].page_content"
   ]
  },
  {
   "cell_type": "code",
   "execution_count": 23,
   "metadata": {},
   "outputs": [
    {
     "data": {
      "text/plain": [
       "[Document(page_content='# 第一單元 多位小數與加減\\n\\n|教材地位|教學指導計畫|總節數 7 節|\\n|---|---|---|\\n|以前學過的|現在要學的|未來要學的|\\n|第六冊第五單元| | |\\n|• 認識一位小數以及「十分位」的位名和位值 並進行位值單位的換算|• 認識多位小數|第十冊第四單元|\\n|• 比較一位小數的大小|• 認識多位小數的位值並做化聚| |\\n|• 能用直式計算 解決一位小數的加減問題| | |\\n|第七冊第九單元| | |\\n|• 認識二位小數以及「百分位」的位名和位值 並進行位值單位的換算|第十冊第六單元| |\\n|• 比較二位小數的大小|捨五入法對小數取概數| |\\n|• 能用直式計算 解決二位小數的加減問題| | |\\n\\n|活動名稱|教學節數|頁碼|活動目標|\\n|---|---|---|---|\\n|開門活動 邁思開車記|5|一、二位小數的報讀。|透過全臺灣最高加油站的情境複習|\\n|活動1 認識多位小數|1節|8、9|在具體情境中認識多位小數。|\\n|活動2 多位小數的大小比較|1節|10|能做多位小數的大小比較。|\\n|活動3 多位小數的加減|1節|12|能解決生活情境中多位小數的減法問題。|\\n|活動4 小數取概數|1節|13、14|能用四捨五入的方法對小數在指定位數取概數。|\\n|練習百分百|1節|15、16|複習各活動學習目標。|\\n\\n# 知識脈絡\\n\\n- 認識三位以上的小數\\n- 認識多位小數\\n- 多位小數的位值和位名\\n- 能正確寫出多位小數(含帶小數)來描述具體的量。\\n- 能解決生活情境中三、四位小數的加法和減法問題。\\n- 知道多位小數的位名與位值。\\n- 能用四捨五入法對小數取概數。\\n- 能比較多位小數的大小。\\n\\n# 多位小數與加減\\n\\n- 多位小數的大小比較\\n- 多位小數的加法直式計算\\n- 多位小數的加減\\n- 多位小數的減法直式計算\\n- 小數取概數\\n- 小數取概數並估算\\n---'),\n",
       " Document(page_content='# 第二單元 因數與公因數\\n\\n數學素養學習單 配合5上第一單元 多位小數與加減 年 班 號 2\\n\\n匯率達人匯率達人 檔案提供於電子書及題庫中究了匯率以後 發現如果要把臺幣換成美金的話 要看銀行賣出的匯雅紋和淑惠兩人規畫要在 7/15 7/21 去美國玩 她們在出發前研 因數與公因數\\n\\n因數與公因數 共8節(320分鐘)\\n\\n下面是國光銀行和家生銀行公告 1 美金兌換臺幣的匯率表\\n\\n|日期|國光銀行買入|國光銀行賣出|日期|家生銀行買入|家生銀行賣出|\\n|---|---|---|---|---|---|\\n|7/10|29.965|30.655|7/10|30|30.67|\\n|7/11|30.045|30.735|7/11|30.08|30.75|\\n|7/26|30.14|30.83|7/26|30.17|30.84|\\n|7/27|30.165|30.855|7/27|30.19|30.86|\\n\\n1. 雅紋在 7/10 去國光銀行用臺幣換美金 臺幣多少元可以換 1 美金 若去家生銀行 臺幣多少元可以換 1 美金 想想看 去哪一家銀行換比較划算 為什麼 臺幣換美金所以要看賣出匯率 7/10 國光銀行 賣出匯率是 30.655 元 家生銀行 賣出匯率是 30.67 元 答 30.655 元 30.67 元 在國光銀行付出的臺幣比較少 所以比較划算\\n\\n2. 出發前 淑惠在 7/11 要去哪一家銀行用臺幣換美金比較划算 7/11 國光銀行 臺幣 30.735 元換 1 美金 家生銀行 臺幣 30.75 元換 1 美金 30.735 元 30.75 元 答 國光銀行\\n\\n3. 回來後 淑惠在 7/27 要把剩下的美金換回臺幣 要去哪一家銀行換比較划算 7/27 國光銀行 1 美金換臺幣 30.165 元 家生銀行 1 美金換臺幣 30.19 元 30.165 元 30.19 元 答 家生銀行\\n\\n4. 接第 2 題和第 3 題 淑惠在 7/11 把臺幣換美金 7/27 把美金換臺 幣 同樣都是 1 美金 付出和換回的臺幣相差多少元 7/11 是付出臺幣 30.735 元換 1 美金 7/27 是 1 美金換回臺幣 30.19 元 30.735 30.19 0.545 答 0.545 元\\n---'),\n",
       " Document(page_content='# 第九單元  面積\\n\\n|數學素養 學習單|配合5上第八單元 配合 5 上第八單元整數四則運算整數四則運算|\\n|---|---|\\n|年 班 號|9|\\n|旅館的入住人數旅館的入住人數|姓名|\\n\\n檔案提供於電子書及題庫中到臺北兩天一夜旅行 計畫參觀國父紀念館等景點 晚上還可以逛有青山國小的畢業旅行地點由全部六年級學生共同投票 最後決定名的士林夜市。為了解決住宿問題 老師們找了一間評價不錯的陽光旅館。旅館老闆說 「我們有三種房型 六人房有 12 間 兩晚 2499元 四人房有 20 間 兩晚 1999元 雙人房有 8 間 兩晚 1499元。只有雙人房可加 1 張單人床 其餘房型均不提供加床服務。」把下面的問題均用一個算式記下來 再算算看。\\n\\n1. 這間旅館最多可以入住多少人\\n\\n6×12 4×20 (2 1)×8\\n\\n72 80 24\\n\\n152 24\\n\\n176\\n\\n2. 學校向陽光旅館訂了 10 間六人房、15 間四人房和 2 間雙人房給學生們入住 雙人房皆不加床 入住的學生總共有多少人\\n\\n6×10 4×15 2×2\\n\\n60 60 4\\n\\n120 4\\n\\n124\\n\\n3. 接上題 學校又多訂 3 間雙人房給老師們入住 一樣不加床 學校訂完所有房間後 共需付多少元\\n\\n2499×10 1999×15 1499×(2 3)\\n\\n(2500 1)×10 (2000 1)×15 (1500 1)×5\\n\\n25000 10 30000 15 7500 5\\n\\n62500 30\\n\\n62470\\n---'),\n",
       " Document(page_content='# 第七單元   線對稱圖形\\n\\n7                                                教學研究\\n本單元的學習目的      本單元為第七冊第五單元「三角形」、第八冊第二單元「四邊形」 及本\\n冊第五單元「多邊形與扇形」之後續單元 主要的學習目的包含 認識線對稱\\n圖形、對稱軸及對稱圖形的性質 繪製線對稱圖形 並能利用線對稱做簡單幾\\n何的推理。\\n\\n共9節(360分鐘)\\n過去學生的舊經驗      學生曾於第七冊第五單元學過平面上全等圖形的意義 認識全等三角形的\\n對應頂點、對應邊、對應角的關係 於第八冊第二單元學過平面上兩條直線互\\n相垂直的意義 及於本冊第五單元認識正多邊形的邊、頂點和角。\\n\\n# 教學計畫\\n\\n|單元目標|活動一 認識線對稱圖形|\\n|---|---|\\n|1. 察覺線對稱圖形的現象。|目標 1-1 察覺生活環境中的線對稱圖形現象。2-1 透過對摺 認識線對稱圖形及其對稱軸。|\\n|2. 認識線對稱圖形及對稱軸。|2-2 判斷圖形是否為線對稱圖形 並畫出其對稱軸。|\\n|3. 認識線對稱圖形的性質。|2-3 透過對摺平面圖形 判別是否為線對稱圖形 並求出對稱軸的數量。|\\n|4. 繪製線對稱圖形。|教學準備 附件15、16、17、18、19、鏡子|\\n|5. 能利用線對稱做簡單幾何的推理。|活動二 對稱點、對稱邊和對稱角|')]"
      ]
     },
     "execution_count": 23,
     "metadata": {},
     "output_type": "execute_result"
    }
   ],
   "source": [
    "docs"
   ]
  },
  {
   "cell_type": "code",
   "execution_count": 24,
   "metadata": {},
   "outputs": [
    {
     "data": {
      "text/plain": [
       "CohereEmbeddings(client=<cohere.client.Client object at 0x11de10150>, async_client=<cohere.client.AsyncClient object at 0x11eac4250>, model='embed-english-v2.0', truncate=None, cohere_api_key='dBKmEAHnk6iFoBI26VsZGYR56lJ638CmzZcOUJeg', max_retries=3, request_timeout=None, user_agent='langchain:partner', base_url=None)"
      ]
     },
     "execution_count": 24,
     "metadata": {},
     "output_type": "execute_result"
    }
   ],
   "source": [
    "embedding_model"
   ]
  },
  {
   "cell_type": "code",
   "execution_count": null,
   "metadata": {},
   "outputs": [],
   "source": []
  }
 ],
 "metadata": {
  "kernelspec": {
   "display_name": "rita",
   "language": "python",
   "name": "python3"
  },
  "language_info": {
   "codemirror_mode": {
    "name": "ipython",
    "version": 3
   },
   "file_extension": ".py",
   "mimetype": "text/x-python",
   "name": "python",
   "nbconvert_exporter": "python",
   "pygments_lexer": "ipython3",
   "version": "3.11.9"
  }
 },
 "nbformat": 4,
 "nbformat_minor": 2
}
