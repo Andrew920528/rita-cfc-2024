{
 "cells": [
  {
   "cell_type": "code",
   "execution_count": 1,
   "metadata": {},
   "outputs": [],
   "source": [
    "from Worksheet import Worksheet\n",
    "\n",
    "doc = Worksheet(\"Test doc\", \"Alan Hou\", \"July 31, 2024\")\n",
    "doc.addSection(\"文字方塊\")\n",
    "doc.addTextBox(r\"\"\"\n",
    "    臣亮言：先帝創業未半而中道崩殂，今天下三分，益州疲弊，此誠危急存亡之秋也。然侍衞之臣不懈於內，忠志之士忘身於外者，蓋追先帝之殊遇，欲報之於陛下也。\n",
    "    誠宜開張聖聽，以光先帝遺德，恢弘志士之氣，不宜妄自菲薄，引喻失義，以塞忠諫之路也。\\\\\n",
    "    宮中府中，俱爲一體，陟罰臧否，不宜異同。若有作奸犯科及爲忠善者，宜付有司論其刑賞，以昭陛下平明之治，不宜偏私，使內外異法也。\\\\\n",
    "    ...\\\\\n",
    "    今當遠離，臨表涕泣，不知所云。\"\"\"\n",
    ")\n",
    "\n",
    "doc.addSection(\"連連看\")\n",
    "matching_pairs = [(\"apple\", \"蘋果\"), (\"banana\", \"香蕉\"), (\"cat\", \"貓\")]\n",
    "doc.addMatching(matching_pairs)\n",
    "\n",
    "doc.generatePDF()"
   ]
  },
  {
   "cell_type": "markdown",
   "metadata": {},
   "source": []
  },
  {
   "cell_type": "code",
   "execution_count": null,
   "metadata": {},
   "outputs": [],
   "source": []
  }
 ],
 "metadata": {
  "kernelspec": {
   "display_name": "rita",
   "language": "python",
   "name": "python3"
  },
  "language_info": {
   "codemirror_mode": {
    "name": "ipython",
    "version": 3
   },
   "file_extension": ".py",
   "mimetype": "text/x-python",
   "name": "python",
   "nbconvert_exporter": "python",
   "pygments_lexer": "ipython3",
   "version": "3.11.9"
  }
 },
 "nbformat": 4,
 "nbformat_minor": 2
}
