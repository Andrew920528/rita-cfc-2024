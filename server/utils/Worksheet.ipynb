{
 "cells": [
  {
   "cell_type": "code",
   "execution_count": 14,
   "metadata": {},
   "outputs": [
    {
     "name": "stderr",
     "output_type": "stream",
     "text": [
      "[INFO] Start to convert ./測試文件第一份.pdf\n",
      "[INFO] \u001b[1;36m[1/4] Opening document...\u001b[0m\n",
      "[INFO] \u001b[1;36m[2/4] Analyzing document...\u001b[0m\n",
      "[INFO] \u001b[1;36m[3/4] Parsing pages...\u001b[0m\n",
      "[INFO] (1/1) Page 1\n",
      "[INFO] \u001b[1;36m[4/4] Creating pages...\u001b[0m\n",
      "[INFO] (1/1) Page 1\n",
      "[INFO] Terminated in 0.07s.\n"
     ]
    }
   ],
   "source": [
    "from Worksheet import Worksheet\n",
    "\n",
    "doc = Worksheet(\"測試文件第一份\", \"小五老師\", \"July 31, 2024\")\n",
    "\n",
    "doc.addSection(\"文字方塊\")\n",
    "doc.addTextBox(r\"\"\"\n",
    "臣亮言：先帝創業未半而中道崩殂，今天下三分，益州疲弊，此誠危急存亡之秋也。然侍衞之臣不懈於內，忠志之士忘身於外者，蓋追先帝之殊遇，欲報之於陛下也。\n",
    "誠宜開張聖聽，以光先帝遺德，恢弘志士之氣，不宜妄自菲薄，引喻失義，以塞忠諫之路也。\\\\\n",
    "宮中府中，俱爲一體，陟罰臧否，不宜異同。若有作奸犯科及爲忠善者，宜付有司論其刑賞，以昭陛下平明之治，不宜偏私，使內外異法也。\\\\\n",
    "......\\\\\n",
    "今當遠離，臨表涕泣，不知所云。\\\\\n",
    "\"\"\"\n",
    ")\n",
    "\n",
    "doc.addSection(\"連連看\")\n",
    "doc.addSubsection(\"第一題\")\n",
    "doc.addText(\"將英文連到對應的中文\\n\")\n",
    "matching_pairs = [(\"apple\", \"蘋果\"), (\"banana\", \"香蕉\"), (\"cat\", \"貓\")]\n",
    "doc.addMatching(matching_pairs)\n",
    "\n",
    "doc.generateDoc()"
   ]
  },
  {
   "cell_type": "markdown",
   "metadata": {},
   "source": []
  }
 ],
 "metadata": {
  "kernelspec": {
   "display_name": "rita",
   "language": "python",
   "name": "python3"
  },
  "language_info": {
   "codemirror_mode": {
    "name": "ipython",
    "version": 3
   },
   "file_extension": ".py",
   "mimetype": "text/x-python",
   "name": "python",
   "nbconvert_exporter": "python",
   "pygments_lexer": "ipython3",
   "version": "3.11.9"
  }
 },
 "nbformat": 4,
 "nbformat_minor": 2
}
